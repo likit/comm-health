{
 "metadata": {
  "name": "",
  "signature": "sha256:c3e85f7acfd19eade9a21d643b5729f31b1d661f418e6e770cf1f968a92dc708"
 },
 "nbformat": 3,
 "nbformat_minor": 0,
 "worksheets": [
  {
   "cells": [
    {
     "cell_type": "code",
     "collapsed": false,
     "input": [
      "import pandas as pd\n",
      "import numpy as np\n",
      "import matplotlib.pyplot as plt\n",
      "import glob"
     ],
     "language": "python",
     "metadata": {},
     "outputs": [],
     "prompt_number": 5
    },
    {
     "cell_type": "code",
     "collapsed": false,
     "input": [
      "%matplotlib inline"
     ],
     "language": "python",
     "metadata": {},
     "outputs": [],
     "prompt_number": 6
    },
    {
     "cell_type": "markdown",
     "metadata": {},
     "source": [
      "##Load data"
     ]
    },
    {
     "cell_type": "code",
     "collapsed": false,
     "input": [
      "years=[]\n",
      "for f in glob.glob('255*.xls'):\n",
      "    df = pd.read_excel(f, 0)\n",
      "    years.append(df)"
     ],
     "language": "python",
     "metadata": {},
     "outputs": [],
     "prompt_number": 279
    },
    {
     "cell_type": "code",
     "collapsed": false,
     "input": [
      "def replace_missing_value(s):\n",
      "    try:\n",
      "        value = float(s)\n",
      "    except:\n",
      "        return np.nan\n",
      "    else:\n",
      "        return float(s)"
     ],
     "language": "python",
     "metadata": {},
     "outputs": [],
     "prompt_number": 31
    },
    {
     "cell_type": "code",
     "collapsed": false,
     "input": [
      "def find_ms(df):\n",
      "    df = df[df['BMI']>=25.0]\n",
      "\n",
      "    df['TG-s'] = df['Triglyceride']>=150.0\n",
      "    df['Gluc-s'] = df['Glucose'] >= 100.0\n",
      "    df['Systolic-s'] = df['Systolic']>=130.0\n",
      "    df['Diastolic-s'] = df['Diastolic'] >=85.0\n",
      "\n",
      "    df['TG-s'] = df['TG-s'].astype(int)\n",
      "    df['Gluc-s'] = df['Gluc-s'].astype(int)\n",
      "    df['BP-s'] = df['Systolic-s'] | df['Diastolic-s']\n",
      "    df['BP-s'] = df['BP-s'].astype(int)\n",
      "    \n",
      "    male_df = df[df['Gender'] == 1]\n",
      "    female_df = df[df['Gender'] == 2]\n",
      "    \n",
      "    male_df['HDL-C-s'] = male_df['HDL-C'] < 40.0\n",
      "    female_df['HDL-C-s'] = female_df['HDL-C'] < 50.0\n",
      "    female_df['HDL-C-s'] = female_df['HDL-C-s'].astype(int)\n",
      "    male_df['HDL-C-s'] = male_df['HDL-C-s'].astype(int)\n",
      "\n",
      "    male_df['MS'] = male_df[['BP-s', 'Gluc-s', 'TG-s', 'HDL-C-s']].sum(axis=1)\n",
      "    female_df['MS'] = female_df[['BP-s', 'Gluc-s', 'TG-s', 'HDL-C-s']].sum(axis=1)\n",
      "    return pd.concat([male_df, female_df])"
     ],
     "language": "python",
     "metadata": {},
     "outputs": [],
     "prompt_number": 159
    },
    {
     "cell_type": "code",
     "collapsed": false,
     "input": [
      "def set_kpi(df):\n",
      "    # BMI\n",
      "    df['BMI-kpi'] = df['BMI']>=30\n",
      "    \n",
      "    # BP\n",
      "    df['Systolic-kpi'] = df['Systolic']>=140.0\n",
      "    df['Diastolic-kpi'] = df['Diastolic'] >=90.0\n",
      "    df['BP-kpi'] = df['Systolic-kpi'] | df['Diastolic-kpi']\n",
      "    \n",
      "    # Glucose\n",
      "    df['Glucose-kpi'] = df['Glucose'] >= 125.0\n",
      "\n",
      "    # Creatinine\n",
      "    df['Creatinine-kpi'] = df['Creatinine'] >=1.5\n",
      "    \n",
      "    # Total Cholesterol\n",
      "    df['Total Cholesterol-kpi-a'] = df['Total Cholesterol'] >= 200\n",
      "    df['Total Cholesterol-kpi-b'] = df['Total Cholesterol'] >= 240\n",
      "    \n",
      "    # HDL-C\n",
      "    df['HDL-C-kpi'] = df['HDL-C'] <= 35\n",
      "    \n",
      "    # LDL-C (direct)\n",
      "    df['LDL-C (Calculated)-kpi'] = df['LDL-C (Calculated)'] >=130\n",
      "    \n",
      "    # Hemoglobin\n",
      "    df['CBC_Hemoglobin-kpi'] = df['CBC_Hemoglobin'] <= 10"
     ],
     "language": "python",
     "metadata": {},
     "outputs": [],
     "prompt_number": 134
    },
    {
     "cell_type": "code",
     "collapsed": false,
     "input": [
      "def calculate_kpi_score(df):\n",
      "    if len(df) == 0:\n",
      "        return None\n",
      "\n",
      "    bmi_kpi = df['BMI-kpi']\n",
      "    bp_kpi = df['BP-kpi']\n",
      "    glucose_kpi = df['Glucose-kpi']\n",
      "    creat_kpi = df['Creatinine-kpi']\n",
      "    choles_kpi_a = df['Total Cholesterol-kpi-a']\n",
      "    choles_kpi_b = df['Total Cholesterol-kpi-b']\n",
      "    hdl_kpi = df['HDL-C-kpi']\n",
      "    ldl_kpi = df['LDL-C (Calculated)-kpi']\n",
      "    hgb_kpi = df['CBC_Hemoglobin-kpi']\n",
      "    ms_kpi = df['MS']>1\n",
      "\n",
      "\n",
      "    bmi_kpi_percnt = len(df.ix[bmi_kpi,:])/float(len(df))\n",
      "    bp_kpi_percnt = len(df.ix[bp_kpi,:])/float(len(df))\n",
      "    glucose_kpi_percnt = len(df.ix[glucose_kpi,:])/float(len(df))\n",
      "    creat_kpi_percnt = len(df.ix[creat_kpi,:])/float(len(df))\n",
      "    choles_kpi_a_percnt = len(df.ix[choles_kpi_a,:])/float(len(df))\n",
      "    choles_kpi_b_percnt = len(df.ix[choles_kpi_b,:])/float(len(df))\n",
      "    hdl_kpi_percnt = len(df.ix[hdl_kpi,:])/float(len(df))\n",
      "    ldl_kpi_percnt = len(df.ix[ldl_kpi,:])/float(len(df))\n",
      "    hgb_kpi_percnt = len(df.ix[hgb_kpi,:])/float(len(df))\n",
      "    ms_kpi_percnt = len(df.ix[ms_kpi,:])/float(len(df))\n",
      "    \n",
      "    #print 'bmi', bmi_kpi_percnt\n",
      "    #print 'bp', bp_kpi_percnt\n",
      "    #print 'glucose', glucose_kpi_percnt\n",
      "    #print 'cretinine', creat_kpi_percnt\n",
      "    #print 'cholesterol a', choles_kpi_a_percnt\n",
      "    #print 'cholesterol b', choles_kpi_b_percnt\n",
      "    #print 'HDL', hdl_kpi_percnt\n",
      "    #print 'LDL', ldl_kpi_percnt\n",
      "    #print 'hemoglobin', hgb_kpi_percnt\n",
      "    #print 'metabolic syndrome', ms_kpi_percnt\n",
      "    \n",
      "    data = pd.Series()\n",
      "    data['Year'] = df.year.tolist()[0]\n",
      "    data['Location'] = df.Location.tolist()[0]\n",
      "    \n",
      "    if bmi_kpi_percnt <= 0.10:\n",
      "        data['BMI'] = 1 \n",
      "    else:\n",
      "        data['BMI'] = 0 \n",
      "\n",
      "    if bp_kpi_percnt <= 0.10:\n",
      "        data['BP'] = 1\n",
      "    else:\n",
      "        data['BP'] = 0\n",
      "\n",
      "    if glucose_kpi_percnt <= 0.05:\n",
      "        data['Glucose'] = 1\n",
      "    else:\n",
      "        data['Glucose'] = 0\n",
      "\n",
      "    if creat_kpi_percnt <= 0.03:\n",
      "        data['Creatinine'] = 1\n",
      "    else:\n",
      "        data['Creatinine'] = 0\n",
      "    \n",
      "    if choles_kpi_a_percnt <= 0.5:\n",
      "        data['Total Cholesterol-a'] = 1\n",
      "    else:\n",
      "        data['Total Cholesterol-a'] = 0\n",
      "\n",
      "    if choles_kpi_b_percnt <= 0.5:\n",
      "        data['Total Cholesterol-b'] = 1\n",
      "    else:\n",
      "        data['Total Cholesterol-b'] = 0\n",
      "\n",
      "    if hdl_kpi_percnt <= 0.03:\n",
      "        data['HDL-C'] = 1\n",
      "    else:\n",
      "        data['HDL-C'] = 0\n",
      "\n",
      "    if ldl_kpi_percnt <= 0.5:\n",
      "        data['LDL-C (Calculated)'] = 1\n",
      "    else:\n",
      "        data['LDL-C (Calculated)'] = 0\n",
      "\n",
      "    if hgb_kpi_percnt <= 0.05:\n",
      "        data['CBC_Hemoglobin'] = 1\n",
      "    else:\n",
      "        data['CBC_Hemoglobin'] = 0\n",
      "    \n",
      "    if ms_kpi_percnt <= 0.10:\n",
      "        data['MS'] = 1\n",
      "    else:\n",
      "        data['MS'] = 0\n",
      "    return data"
     ],
     "language": "python",
     "metadata": {},
     "outputs": [],
     "prompt_number": 270
    },
    {
     "cell_type": "code",
     "collapsed": false,
     "input": [
      "kpi_scores = pd.DataFrame()\n",
      "\n",
      "#for loc in ['\u0e2a\u0e16\u0e32\u0e1a\u0e31\u0e19\u0e27\u0e34\u0e08\u0e31\u0e22\u0e20\u0e32\u0e29\u0e32\u0e41\u0e25\u0e30\u0e27\u0e31\u0e12\u0e19\u0e18\u0e23\u0e23\u0e21\u0e40\u0e2d\u0e40\u0e0b\u0e35\u0e22  \u0e21.\u0e2b\u0e34\u0e14\u0e25',\n",
      "#            '\u0e2b\u0e2d\u0e2a\u0e21\u0e38\u0e14\u0e41\u0e25\u0e30\u0e04\u0e25\u0e31\u0e07\u0e04\u0e27\u0e32\u0e21\u0e23\u0e39\u0e49\u0e21\u0e2b\u0e32\u0e27\u0e34\u0e17\u0e22\u0e32\u0e25\u0e31\u0e22\u0e21\u0e2b\u0e34\u0e14\u0e25',\n",
      "#            '\u0e2a\u0e16\u0e32\u0e1a\u0e31\u0e19\u0e27\u0e34\u0e08\u0e31\u0e22\u0e1b\u0e23\u0e30\u0e0a\u0e32\u0e01\u0e23\u0e41\u0e25\u0e30\u0e2a\u0e31\u0e07\u0e04\u0e21\u0e28\u0e32\u0e2a\u0e15\u0e23\u0e4c \u0e21.\u0e21\u0e2b\u0e34\u0e14\u0e25',\n",
      "#            '\u0e2a\u0e16\u0e32\u0e1a\u0e31\u0e19\u0e0a\u0e35\u0e27\u0e27\u0e34\u0e17\u0e22\u0e32\u0e28\u0e32\u0e2a\u0e15\u0e23\u0e4c\u0e42\u0e21\u0e40\u0e25\u0e01\u0e38\u0e25',\n",
      "#            ]:\n",
      "for j in range(len(years)):  # process data from one year at a time\n",
      "    drop_percnt = []\n",
      "    for n, loc in enumerate(years[j].Location.unique()):  # process data from one location at a time\n",
      "        df = years[j][years[j]['Location']==loc]\n",
      "        if n % 20 == 0:\n",
      "            print '...', n\n",
      "        if len(df) == 0:\n",
      "            continue\n",
      "        df_subset_index = df[['BMI', 'Systolic', 'Triglyceride',\n",
      "                                     'HDL-C', 'Glucose', 'Gender',\n",
      "                                     'Creatinine', 'CBC_Hemoglobin', 'Total Cholesterol',\n",
      "                                     'LDL-C (Calculated)']].dropna().index\n",
      "        df_subset = df.ix[df_subset_index]\n",
      "\n",
      "        if len(df_subset) == 0:\n",
      "            print loc, len(df_subset)\n",
      "            continue\n",
      "\n",
      "        drop_percnt.append((len(df)-len(df_subset))/float(len(df))*100)\n",
      "        df_subset = find_ms(df_subset)\n",
      "        set_kpi(df_subset)\n",
      "        score = calculate_kpi_score(df_subset)\n",
      "        if score is not None:\n",
      "            kpi_scores = kpi_scores.append(score, ignore_index=True)\n",
      "            kpi_scores['total_score'] = kpi_scores[['BMI', 'BP', 'Glucose','Creatinine',\n",
      "                                                    'Total Cholesterol-a', 'Total Cholesterol-b','HDL-C',\n",
      "                                                    'LDL-C (Calculated)', 'CBC_Hemoglobin']].sum(axis=1)\n",
      "    print 'Year %d, average droped data=%.2f' % (df_subset.year.tolist()[0], np.mean(drop_percnt))\n",
      "print kpi_scores.head()"
     ],
     "language": "python",
     "metadata": {},
     "outputs": [
      {
       "output_type": "stream",
       "stream": "stdout",
       "text": [
        "... 0\n",
        "\u0e1a\u0e23\u0e34\u0e29\u0e31\u0e17 \u0e27\u0e34\u0e17\u0e22\u0e32\u0e28\u0e23\u0e21 \u0e08\u0e33\u0e01\u0e31\u0e14"
       ]
      },
      {
       "output_type": "stream",
       "stream": "stdout",
       "text": [
        " 0\n",
        "..."
       ]
      },
      {
       "output_type": "stream",
       "stream": "stdout",
       "text": [
        " 20\n",
        "..."
       ]
      },
      {
       "output_type": "stream",
       "stream": "stdout",
       "text": [
        " 40\n",
        "..."
       ]
      },
      {
       "output_type": "stream",
       "stream": "stdout",
       "text": [
        " 60\n",
        "\u0e1a\u0e23\u0e34\u0e29\u0e31\u0e17 \u0e2d\u0e32\u0e04\u0e40\u0e19\u0e22\u0e4c\u0e2d\u0e38\u0e15\u0e2a\u0e32\u0e2b\u0e01\u0e23\u0e23\u0e21\u0e1a\u0e23\u0e23\u0e08\u0e38\u0e20\u0e31\u0e13\u0e11\u0e4c \u0e08\u0e33\u0e01\u0e31\u0e14"
       ]
      },
      {
       "output_type": "stream",
       "stream": "stdout",
       "text": [
        " 0\n",
        "..."
       ]
      },
      {
       "output_type": "stream",
       "stream": "stdout",
       "text": [
        " 80\n",
        "Year 2551, average droped data=19.99"
       ]
      },
      {
       "output_type": "stream",
       "stream": "stdout",
       "text": [
        "\n",
        "... 0\n",
        "\u0e1a\u0e23\u0e34\u0e29\u0e31\u0e17 \u0e27\u0e34\u0e17\u0e22\u0e32\u0e28\u0e23\u0e21 \u0e08\u0e33\u0e01\u0e31\u0e14"
       ]
      },
      {
       "output_type": "stream",
       "stream": "stdout",
       "text": [
        " 0\n",
        "... 20\n",
        "..."
       ]
      },
      {
       "output_type": "stream",
       "stream": "stdout",
       "text": [
        " 40\n",
        "\u0e2a\u0e33\u0e19\u0e31\u0e01\u0e07\u0e32\u0e19\u0e2a\u0e25\u0e32\u0e01\u0e01\u0e34\u0e19\u0e41\u0e1a\u0e48\u0e07\u0e23\u0e31\u0e10\u0e1a\u0e32\u0e25"
       ]
      },
      {
       "output_type": "stream",
       "stream": "stdout",
       "text": [
        " 0\n",
        "\u0e1a\u0e31\u0e13\u0e11\u0e34\u0e15\u0e27\u0e34\u0e17\u0e22\u0e32\u0e25\u0e31\u0e22 \u0e21\u0e2b\u0e32\u0e27\u0e34\u0e17\u0e22\u0e32\u0e25\u0e31\u0e22\u0e21\u0e2b\u0e34\u0e14\u0e25"
       ]
      },
      {
       "output_type": "stream",
       "stream": "stdout",
       "text": [
        " 0\n",
        "... 60\n",
        "\u0e42\u0e23\u0e07\u0e40\u0e23\u0e35\u0e22\u0e19\u0e2a\u0e32\u0e22\u0e1b\u0e31\u0e0d\u0e0d\u0e32\u0e23\u0e31\u0e07\u0e2a\u0e34\u0e15"
       ]
      },
      {
       "output_type": "stream",
       "stream": "stdout",
       "text": [
        " 0\n",
        "\u0e1c\u0e39\u0e49\u0e1b\u0e23\u0e30\u0e01\u0e2d\u0e1a\u0e23\u0e49\u0e32\u0e19\u0e2d\u0e32\u0e2b\u0e32\u0e23\u0e21\u0e2b\u0e32\u0e27\u0e34\u0e17\u0e22\u0e32\u0e25\u0e31\u0e22\u0e21\u0e2b\u0e34\u0e14\u0e25"
       ]
      },
      {
       "output_type": "stream",
       "stream": "stdout",
       "text": [
        " 0\n",
        "..."
       ]
      },
      {
       "output_type": "stream",
       "stream": "stdout",
       "text": [
        " 80\n",
        "\u0e1a\u0e23\u0e34\u0e29\u0e31\u0e17 \u0e2d\u0e32\u0e04\u0e40\u0e19\u0e22\u0e4c\u0e2d\u0e38\u0e15\u0e2a\u0e32\u0e2b\u0e01\u0e23\u0e23\u0e21\u0e1a\u0e23\u0e23\u0e08\u0e38\u0e20\u0e31\u0e13\u0e11\u0e4c \u0e08\u0e33\u0e01\u0e31\u0e14"
       ]
      },
      {
       "output_type": "stream",
       "stream": "stdout",
       "text": [
        " 0\n",
        "..."
       ]
      },
      {
       "output_type": "stream",
       "stream": "stdout",
       "text": [
        " 100\n",
        "Year 2552, average droped data=21.31"
       ]
      },
      {
       "output_type": "stream",
       "stream": "stdout",
       "text": [
        "\n",
        "... 0\n",
        "\u0e1a\u0e23\u0e34\u0e29\u0e31\u0e17 \u0e44\u0e1a\u0e42\u0e2d\u0e42\u0e01\u0e23\u0e27\u0e4c \u0e17\u0e35\u0e40\u0e2d\u0e0a \u0e08\u0e33\u0e01\u0e31\u0e14 (PC)"
       ]
      },
      {
       "output_type": "stream",
       "stream": "stdout",
       "text": [
        " 0\n",
        "\u0e1a\u0e23\u0e34\u0e29\u0e31\u0e17 \u0e1b\u0e31\u0e0d\u0e0d\u0e32\u0e23\u0e31\u0e01\u0e29\u0e32 \u0e08\u0e33\u0e01\u0e31\u0e14"
       ]
      },
      {
       "output_type": "stream",
       "stream": "stdout",
       "text": [
        " 0\n",
        "\u0e0a\u0e38\u0e21\u0e0a\u0e19\u0e27\u0e31\u0e14\u0e21\u0e30\u0e25\u0e34"
       ]
      },
      {
       "output_type": "stream",
       "stream": "stdout",
       "text": [
        " 0\n",
        "\u0e2d\u0e39\u0e48\u0e0a\u0e19\u0e30\u0e20\u0e31\u0e22 \u0e40\u0e14\u0e34\u0e19\u0e23\u0e16 0\n",
        "\u0e0a\u0e38\u0e21\u0e0a\u0e19\u0e27\u0e31\u0e14\u0e44\u0e0a\u0e22\u0e17\u0e34\u0e28"
       ]
      },
      {
       "output_type": "stream",
       "stream": "stdout",
       "text": [
        " 0\n",
        "..."
       ]
      },
      {
       "output_type": "stream",
       "stream": "stdout",
       "text": [
        " 20\n",
        "\u0e1a\u0e23\u0e34\u0e29\u0e31\u0e17 \u0e27\u0e34\u0e17\u0e22\u0e32\u0e28\u0e23\u0e21 \u0e08\u0e33\u0e01\u0e31\u0e14"
       ]
      },
      {
       "output_type": "stream",
       "stream": "stdout",
       "text": [
        " 0\n",
        "Mahidol University International College  (Student)"
       ]
      },
      {
       "output_type": "stream",
       "stream": "stdout",
       "text": [
        " 0\n",
        "\u0e19\u0e28.\u0e27\u0e34\u0e17\u0e22\u0e32\u0e25\u0e31\u0e22\u0e27\u0e34\u0e17\u0e22\u0e32\u0e28\u0e32\u0e2a\u0e15\u0e23\u0e4c\u0e41\u0e25\u0e30\u0e40\u0e17\u0e04\u0e42\u0e19\u0e42\u0e25\u0e22\u0e35\u0e01\u0e32\u0e23\u0e01\u0e35\u0e2c\u0e32 \u0e21.\u0e21\u0e2b\u0e34\u0e14\u0e25 0\n",
        "\u0e19\u0e28.\u0e04\u0e13\u0e30\u0e2a\u0e31\u0e15\u0e27\u0e41\u0e1e\u0e17\u0e22\u0e4c\u0e28\u0e32\u0e2a\u0e15\u0e23\u0e4c \u0e21.\u0e21\u0e2b\u0e34\u0e14\u0e25"
       ]
      },
      {
       "output_type": "stream",
       "stream": "stdout",
       "text": [
        " 0\n",
        "\u0e1a\u0e23\u0e34\u0e29\u0e31\u0e17 \u0e40\u0e2d\u0e2a \u0e40\u0e04 \u0e40\u0e2d\u0e2a \u0e40\u0e2d\u0e47\u0e19\u0e08\u0e34\u0e40\u0e19\u0e35\u0e22\u0e23\u0e34\u0e48\u0e07 \u0e41\u0e2d\u0e19\u0e14\u0e4c \u0e40\u0e0b\u0e2d\u0e23\u0e4c\u0e27\u0e34\u0e2a  \u0e08\u0e33\u0e01\u0e31\u0e14 0\n",
        "..."
       ]
      },
      {
       "output_type": "stream",
       "stream": "stdout",
       "text": [
        " 40\n",
        "\u0e1a\u0e23\u0e34\u0e29\u0e31\u0e17 \u0e2a\u0e22\u0e32\u0e21\u0e40\u0e06\u0e21\u0e35 \u0e08\u0e33\u0e01\u0e31\u0e14 (\u0e42\u0e23\u0e07\u0e07\u0e32\u0e19)"
       ]
      },
      {
       "output_type": "stream",
       "stream": "stdout",
       "text": [
        " 0\n",
        "\u0e04\u0e13\u0e30\u0e40\u0e20\u0e2a\u0e31\u0e0a\u0e28\u0e32\u0e2a\u0e15\u0e23\u0e4c \u0e21\u0e2b\u0e32\u0e27\u0e34\u0e17\u0e22\u0e32\u0e25\u0e31\u0e22\u0e21\u0e2b\u0e34\u0e14\u0e25"
       ]
      },
      {
       "output_type": "stream",
       "stream": "stdout",
       "text": [
        " 0\n",
        "\u0e2a\u0e33\u0e19\u0e31\u0e01\u0e07\u0e32\u0e19\u0e2a\u0e25\u0e32\u0e01\u0e01\u0e34\u0e19\u0e41\u0e1a\u0e48\u0e07\u0e23\u0e31\u0e10\u0e1a\u0e32\u0e25"
       ]
      },
      {
       "output_type": "stream",
       "stream": "stdout",
       "text": [
        " 0\n",
        "..."
       ]
      },
      {
       "output_type": "stream",
       "stream": "stdout",
       "text": [
        " 60\n",
        "THAI SHING YE INTER MARKETING CO-,LTD"
       ]
      },
      {
       "output_type": "stream",
       "stream": "stdout",
       "text": [
        " 0\n",
        "\u0e1c\u0e39\u0e49\u0e1b\u0e23\u0e30\u0e01\u0e2d\u0e1a\u0e01\u0e32\u0e23\u0e23\u0e49\u0e32\u0e19\u0e2d\u0e32\u0e2b\u0e32\u0e23 \u0e21.\u0e23\u0e32\u0e21\u0e04\u0e33\u0e41\u0e2b\u0e07"
       ]
      },
      {
       "output_type": "stream",
       "stream": "stdout",
       "text": [
        " 0\n",
        "\u0e1c\u0e39\u0e49\u0e1b\u0e23\u0e30\u0e01\u0e2d\u0e1a\u0e01\u0e32\u0e23\u0e23\u0e49\u0e32\u0e19\u0e2d\u0e32\u0e2b\u0e32\u0e23 \u0e04\u0e13\u0e30\u0e40\u0e17\u0e04\u0e19\u0e34\u0e04\u0e01\u0e32\u0e23\u0e41\u0e1e\u0e17\u0e22\u0e4c"
       ]
      },
      {
       "output_type": "stream",
       "stream": "stdout",
       "text": [
        " 0\n",
        "\u0e19\u0e28.\u0e04\u0e13\u0e30\u0e2a\u0e34\u0e48\u0e07\u0e41\u0e27\u0e14\u0e25\u0e49\u0e2d\u0e21 \u0e21.\u0e21\u0e2b\u0e34\u0e14\u0e25 0\n",
        "\u0e19\u0e28.\u0e04\u0e13\u0e30\u0e01\u0e32\u0e22\u0e20\u0e32\u0e1e\u0e1a\u0e33\u0e1a\u0e31\u0e14 \u0e21. \u0e21\u0e2b\u0e34\u0e14\u0e25 0\n",
        "\u0e19\u0e28.\u0e04\u0e13\u0e30\u0e40\u0e17\u0e04\u0e19\u0e34\u0e04\u0e01\u0e32\u0e23\u0e41\u0e1e\u0e17\u0e22\u0e4c \u0e21.\u0e21\u0e2b\u0e34\u0e14\u0e25 0\n",
        "\u0e19\u0e28.\u0e04\u0e13\u0e30\u0e1e\u0e22\u0e32\u0e1a\u0e32\u0e25\u0e28\u0e32\u0e2a\u0e15\u0e23\u0e4c \u0e21.\u0e21\u0e2b\u0e34\u0e14\u0e25 0\n",
        "\u0e19\u0e28.\u0e04\u0e13\u0e30\u0e27\u0e34\u0e28\u0e27\u0e01\u0e23\u0e23\u0e21\u0e28\u0e32\u0e2a\u0e15\u0e23\u0e4c \u0e21.\u0e21\u0e2b\u0e34\u0e14\u0e25 0\n",
        "..."
       ]
      },
      {
       "output_type": "stream",
       "stream": "stdout",
       "text": [
        " 80\n",
        "\u0e1a\u0e23\u0e34\u0e29\u0e31\u0e17  \u0e22\u0e39\u0e40\u0e17\u0e04\u0e44\u0e17\u0e22  (NS)"
       ]
      },
      {
       "output_type": "stream",
       "stream": "stdout",
       "text": [
        " 0\n",
        "\u0e42\u0e23\u0e07\u0e1e\u0e22\u0e32\u0e1a\u0e32\u0e25\u0e2a\u0e48\u0e07\u0e40\u0e2a\u0e23\u0e34\u0e21\u0e2a\u0e38\u0e02\u0e20\u0e32\u0e1e\u0e15\u0e33\u0e1a\u0e25\u0e1b\u0e48\u0e32\u0e44\u0e01\u0e48 \u0e08.\u0e23\u0e32\u0e0a\u0e1a\u0e38\u0e23\u0e35"
       ]
      },
      {
       "output_type": "stream",
       "stream": "stdout",
       "text": [
        " 0\n",
        "..."
       ]
      },
      {
       "output_type": "stream",
       "stream": "stdout",
       "text": [
        " 100\n",
        "\u0e1c\u0e39\u0e49\u0e1b\u0e23\u0e30\u0e01\u0e2d\u0e1a\u0e23\u0e49\u0e32\u0e19\u0e2d\u0e32\u0e2b\u0e32\u0e23\u0e21\u0e2b\u0e32\u0e27\u0e34\u0e17\u0e22\u0e32\u0e25\u0e31\u0e22\u0e21\u0e2b\u0e34\u0e14\u0e25"
       ]
      },
      {
       "output_type": "stream",
       "stream": "stdout",
       "text": [
        " 0\n",
        "..."
       ]
      },
      {
       "output_type": "stream",
       "stream": "stdout",
       "text": [
        " 120\n",
        "\u0e2d\u0e07\u0e04\u0e4c\u0e01\u0e32\u0e23\u0e40\u0e20\u0e2a\u0e31\u0e0a  (\u0e23\u0e49\u0e32\u0e19\u0e04\u0e49\u0e32) 0\n",
        "Year 2553, average droped data=25.28"
       ]
      },
      {
       "output_type": "stream",
       "stream": "stdout",
       "text": [
        "\n",
        "... 0\n",
        "\u0e27\u0e34\u0e17\u0e22\u0e32\u0e25\u0e31\u0e22\u0e14\u0e38\u0e23\u0e34\u0e22\u0e32\u0e07\u0e04\u0e28\u0e34\u0e25\u0e1b\u0e4c  (\u0e19\u0e31\u0e01\u0e40\u0e23\u0e35\u0e22\u0e19)"
       ]
      },
      {
       "output_type": "stream",
       "stream": "stdout",
       "text": [
        " 0\n",
        "\u0e21\u0e2b\u0e32\u0e27\u0e34\u0e17\u0e22\u0e32\u0e25\u0e31\u0e22\u0e40\u0e17\u0e04\u0e42\u0e19\u0e42\u0e25\u0e22\u0e35\u0e1e\u0e23\u0e30\u0e08\u0e2d\u0e21\u0e40\u0e01\u0e25\u0e49\u0e32\u0e18\u0e19\u0e1a\u0e38\u0e23\u0e35  (\u0e44\u0e02\u0e21\u0e31\u0e19) 0\n",
        "\u0e1a\u0e23\u0e34\u0e29\u0e31\u0e17 \u0e27\u0e34\u0e17\u0e22\u0e32\u0e28\u0e23\u0e21 \u0e08\u0e33\u0e01\u0e31\u0e14"
       ]
      },
      {
       "output_type": "stream",
       "stream": "stdout",
       "text": [
        " 0\n",
        "..."
       ]
      },
      {
       "output_type": "stream",
       "stream": "stdout",
       "text": [
        " 20\n",
        "\u0e1a\u0e23\u0e34\u0e29\u0e31\u0e17\u0e2a\u0e22\u0e32\u0e21\u0e2a\u0e15\u0e34\u0e25\u0e0b\u0e34\u0e19\u0e14\u0e34\u0e40\u0e01\u0e15  \u0e08\u0e33\u0e01\u0e31\u0e14 (\u0e21\u0e2b\u0e32\u0e0a\u0e19)"
       ]
      },
      {
       "output_type": "stream",
       "stream": "stdout",
       "text": [
        " 0\n",
        "\u0e2a\u0e33\u0e19\u0e31\u0e01\u0e07\u0e32\u0e19\u0e2a\u0e25\u0e32\u0e01\u0e01\u0e34\u0e19\u0e41\u0e1a\u0e48\u0e07\u0e23\u0e31\u0e10\u0e1a\u0e32\u0e25"
       ]
      },
      {
       "output_type": "stream",
       "stream": "stdout",
       "text": [
        " 0\n",
        "..."
       ]
      },
      {
       "output_type": "stream",
       "stream": "stdout",
       "text": [
        " 40\n",
        "\u0e21\u0e2b\u0e32\u0e27\u0e34\u0e17\u0e22\u0e32\u0e25\u0e31\u0e22\u0e23\u0e32\u0e0a\u0e20\u0e31\u0e0f\u0e27\u0e44\u0e25\u0e22\u0e2d\u0e25\u0e07\u0e01\u0e23\u0e13\u0e4c  \u0e43\u0e19\u0e1e\u0e23\u0e30\u0e1a\u0e23\u0e21\u0e23\u0e32\u0e0a\u0e39\u0e1b\u0e16\u0e31\u0e21\u0e20\u0e4c  \u0e1e\u0e19\u0e07."
       ]
      },
      {
       "output_type": "stream",
       "stream": "stdout",
       "text": [
        " 0\n",
        "THAI SHING YE INTER MARKETING CO-,LTD"
       ]
      },
      {
       "output_type": "stream",
       "stream": "stdout",
       "text": [
        " 0\n",
        "\u0e19\u0e28.\u0e04\u0e13\u0e30\u0e01\u0e32\u0e22\u0e20\u0e32\u0e1e\u0e1a\u0e33\u0e1a\u0e31\u0e14 \u0e21. \u0e21\u0e2b\u0e34\u0e14\u0e25"
       ]
      },
      {
       "output_type": "stream",
       "stream": "stdout",
       "text": [
        " 0\n",
        "\u0e19\u0e28.\u0e04\u0e13\u0e30\u0e2a\u0e31\u0e15\u0e27\u0e41\u0e1e\u0e17\u0e22\u0e4c\u0e28\u0e32\u0e2a\u0e15\u0e23\u0e4c \u0e21.\u0e21\u0e2b\u0e34\u0e14\u0e25 0\n",
        "\u0e19\u0e28.\u0e27\u0e34\u0e17\u0e22\u0e32\u0e25\u0e31\u0e22\u0e27\u0e34\u0e17\u0e22\u0e32\u0e28\u0e32\u0e2a\u0e15\u0e23\u0e4c\u0e41\u0e25\u0e30\u0e40\u0e17\u0e04\u0e42\u0e19\u0e42\u0e25\u0e22\u0e35\u0e01\u0e32\u0e23\u0e01\u0e35\u0e2c\u0e32 \u0e21.\u0e21\u0e2b\u0e34\u0e14\u0e25 0\n",
        "\u0e19\u0e28.\u0e04\u0e13\u0e30\u0e40\u0e17\u0e04\u0e19\u0e34\u0e04\u0e01\u0e32\u0e23\u0e41\u0e1e\u0e17\u0e22\u0e4c \u0e21.\u0e21\u0e2b\u0e34\u0e14\u0e25 0\n",
        "\u0e19\u0e28.\u0e04\u0e13\u0e30\u0e27\u0e34\u0e28\u0e27\u0e01\u0e23\u0e23\u0e21\u0e28\u0e32\u0e2a\u0e15\u0e23\u0e4c \u0e21.\u0e21\u0e2b\u0e34\u0e14\u0e25 0\n",
        "\u0e19\u0e28.\u0e04\u0e13\u0e30\u0e1e\u0e22\u0e32\u0e1a\u0e32\u0e25\u0e28\u0e32\u0e2a\u0e15\u0e23\u0e4c \u0e21.\u0e21\u0e2b\u0e34\u0e14\u0e25 0\n",
        "\u0e1c\u0e39\u0e49\u0e1b\u0e23\u0e30\u0e01\u0e2d\u0e1a\u0e01\u0e32\u0e23\u0e23\u0e49\u0e32\u0e19\u0e2d\u0e32\u0e2b\u0e32\u0e23 \u0e04\u0e13\u0e30\u0e40\u0e17\u0e04\u0e19\u0e34\u0e04\u0e01\u0e32\u0e23\u0e41\u0e1e\u0e17\u0e22\u0e4c"
       ]
      },
      {
       "output_type": "stream",
       "stream": "stdout",
       "text": [
        " 0\n",
        "\u0e04\u0e13\u0e30\u0e40\u0e17\u0e04\u0e19\u0e34\u0e04\u0e01\u0e32\u0e23\u0e41\u0e1e\u0e17\u0e22\u0e4c(\u0e01\u0e23\u0e30\u0e14\u0e39\u0e01) 0\n",
        "..."
       ]
      },
      {
       "output_type": "stream",
       "stream": "stdout",
       "text": [
        " 60\n",
        "\u0e1c\u0e39\u0e49\u0e1b\u0e23\u0e30\u0e01\u0e2d\u0e1a\u0e01\u0e32\u0e23\u0e23\u0e49\u0e32\u0e19\u0e04\u0e49\u0e32\u0e04\u0e13\u0e30\u0e1e\u0e22\u0e32\u0e1a\u0e32\u0e25\u0e28\u0e32\u0e2a\u0e15\u0e23\u0e4c \u0e21.\u0e21\u0e2b\u0e34\u0e14\u0e25"
       ]
      },
      {
       "output_type": "stream",
       "stream": "stdout",
       "text": [
        " 0\n",
        "\u0e1a\u0e23\u0e34\u0e29\u0e31\u0e17 \u0e44\u0e1a\u0e42\u0e2d\u0e42\u0e01\u0e23\u0e27\u0e4c \u0e17\u0e35\u0e40\u0e2d\u0e0a \u0e08\u0e33\u0e01\u0e31\u0e14 (PC) 0\n",
        "\u0e2a\u0e16\u0e32\u0e19\u0e35\u0e2d\u0e19\u0e32\u0e21\u0e31\u0e22\u0e1a\u0e49\u0e32\u0e19\u0e2a\u0e32\u0e25\u0e30\u0e27\u0e31\u0e19"
       ]
      },
      {
       "output_type": "stream",
       "stream": "stdout",
       "text": [
        " 0\n",
        "Mahidol University International College  (Student)"
       ]
      },
      {
       "output_type": "stream",
       "stream": "stdout",
       "text": [
        " 0\n",
        "..."
       ]
      },
      {
       "output_type": "stream",
       "stream": "stdout",
       "text": [
        " 80\n",
        "\u0e42\u0e23\u0e07\u0e1e\u0e22\u0e32\u0e1a\u0e32\u0e25\u0e2a\u0e48\u0e07\u0e40\u0e2a\u0e23\u0e34\u0e21\u0e2a\u0e38\u0e02\u0e20\u0e32\u0e1e\u0e15\u0e33\u0e1a\u0e25\u0e1b\u0e48\u0e32\u0e44\u0e01\u0e48 \u0e08.\u0e23\u0e32\u0e0a\u0e1a\u0e38\u0e23\u0e35 0\n",
        "\u0e15\u0e23\u0e27\u0e08\u0e2a\u0e38\u0e02\u0e20\u0e32\u0e1e  \u0e04\u0e38\u0e13\u0e21\u0e32\u0e23\u0e15\u0e35"
       ]
      },
      {
       "output_type": "stream",
       "stream": "stdout",
       "text": [
        " 0\n",
        "\u0e21\u0e2b\u0e32\u0e27\u0e34\u0e17\u0e22\u0e32\u0e25\u0e31\u0e22\u0e40\u0e17\u0e04\u0e42\u0e19\u0e42\u0e25\u0e22\u0e35\u0e23\u0e32\u0e0a\u0e21\u0e07\u0e04\u0e25\u0e23\u0e31\u0e15\u0e19\u0e42\u0e01\u0e2a\u0e34\u0e19\u0e17\u0e23\u0e4c \u0e28\u0e32\u0e25\u0e32\u0e22\u0e32"
       ]
      },
      {
       "output_type": "stream",
       "stream": "stdout",
       "text": [
        " 0\n",
        "\u0e42\u0e23\u0e07\u0e40\u0e23\u0e35\u0e22\u0e19\u0e08\u0e34\u0e15\u0e23\u0e25\u0e14\u0e32"
       ]
      },
      {
       "output_type": "stream",
       "stream": "stdout",
       "text": [
        " 0\n",
        "\u0e42\u0e04\u0e23\u0e07\u0e01\u0e32\u0e23\u0e2a\u0e48\u0e27\u0e19\u0e1e\u0e23\u0e30\u0e2d\u0e07\u0e04\u0e4c 0\n",
        "\u0e19\u0e34\u0e17\u0e23\u0e23\u0e28\u0e01\u0e32\u0e23\u0e40\u0e1e\u0e37\u0e48\u0e2d\u0e2b\u0e31\u0e27\u0e43\u0e08\u0e44\u0e17\u0e22\r\n",
        "\r\n",
        "\r\n",
        "  \u0e40\u0e1e\u0e37\u0e48\u0e2d\u0e2b\u0e31\u0e27\u0e43\u0e08\u0e44\u0e17\u0e22 0\n",
        "..."
       ]
      },
      {
       "output_type": "stream",
       "stream": "stdout",
       "text": [
        " 100\n",
        "\u0e23\u0e1e.\u0e2a\u0e48\u0e07\u0e40\u0e2a\u0e23\u0e34\u0e21\u0e2a\u0e38\u0e02\u0e20\u0e32\u0e1e\u0e15\u0e33\u0e1a\u0e25\u0e21\u0e2b\u0e32\u0e2a\u0e27\u0e31\u0e2a\u0e14\u0e34\u0e4c"
       ]
      },
      {
       "output_type": "stream",
       "stream": "stdout",
       "text": [
        " 0\n",
        "Year 2554, average droped data=26.28"
       ]
      },
      {
       "output_type": "stream",
       "stream": "stdout",
       "text": [
        "\n",
        "... 0\n",
        "\u0e19\u0e28.\u0e04\u0e13\u0e30\u0e1e\u0e22\u0e32\u0e1a\u0e32\u0e25\u0e28\u0e32\u0e2a\u0e15\u0e23\u0e4c \u0e21.\u0e21\u0e2b\u0e34\u0e14\u0e25"
       ]
      },
      {
       "output_type": "stream",
       "stream": "stdout",
       "text": [
        " 0\n",
        "\u0e27\u0e34\u0e17\u0e22\u0e32\u0e25\u0e31\u0e22\u0e14\u0e38\u0e23\u0e34\u0e22\u0e32\u0e07\u0e04\u0e28\u0e34\u0e25\u0e1b\u0e4c  (\u0e19\u0e31\u0e01\u0e40\u0e23\u0e35\u0e22\u0e19) 0\n",
        "Mahidol University International College  (Student)"
       ]
      },
      {
       "output_type": "stream",
       "stream": "stdout",
       "text": [
        " 0\n",
        "\u0e1a\u0e23\u0e34\u0e29\u0e31\u0e17\u0e01\u0e31\u0e19\u0e22\u0e32\u0e01\u0e32\u0e22\u0e20\u0e32\u0e1e\u0e1a\u0e33\u0e1a\u0e31\u0e14 \u0e04\u0e25\u0e34\u0e19\u0e34\u0e01 \u0e08\u0e33\u0e01\u0e31\u0e14"
       ]
      },
      {
       "output_type": "stream",
       "stream": "stdout",
       "text": [
        " 0\n",
        "\u0e1a\u0e23\u0e34\u0e29\u0e31\u0e17 \u0e41\u0e01\u0e23\u0e19\u0e14\u0e4c \u0e40\u0e04\u0e21\u0e35\u0e40\u0e04\u0e34\u0e25 \u0e01\u0e23\u0e38\u0e4a\u0e1b"
       ]
      },
      {
       "output_type": "stream",
       "stream": "stdout",
       "text": [
        " 0\n",
        "\u0e42\u0e04\u0e23\u0e07\u0e01\u0e32\u0e23\u0e2a\u0e48\u0e27\u0e19\u0e1e\u0e23\u0e30\u0e2d\u0e07\u0e04\u0e4c 0\n",
        "\u0e21\u0e2b\u0e32\u0e27\u0e34\u0e17\u0e22\u0e32\u0e25\u0e31\u0e22\u0e40\u0e17\u0e04\u0e42\u0e19\u0e42\u0e25\u0e22\u0e35\u0e1e\u0e23\u0e30\u0e08\u0e2d\u0e21\u0e40\u0e01\u0e25\u0e49\u0e32\u0e18\u0e19\u0e1a\u0e38\u0e23\u0e35  (\u0e44\u0e02\u0e21\u0e31\u0e19)"
       ]
      },
      {
       "output_type": "stream",
       "stream": "stdout",
       "text": [
        " 0\n",
        "... 20\n",
        "\u0e1a\u0e23\u0e34\u0e29\u0e31\u0e17 \u0e27\u0e34\u0e17\u0e22\u0e32\u0e28\u0e23\u0e21 \u0e08\u0e33\u0e01\u0e31\u0e14"
       ]
      },
      {
       "output_type": "stream",
       "stream": "stdout",
       "text": [
        " 0\n",
        "\u0e2d\u0e39\u0e48\u0e0a\u0e19\u0e30\u0e20\u0e31\u0e22 \u0e40\u0e14\u0e34\u0e19\u0e23\u0e16 0\n",
        "International Bio Service"
       ]
      },
      {
       "output_type": "stream",
       "stream": "stdout",
       "text": [
        " 0\n",
        "\u0e1a\u0e23\u0e34\u0e29\u0e31\u0e17\u0e2a\u0e22\u0e32\u0e21\u0e2a\u0e15\u0e34\u0e25\u0e0b\u0e34\u0e19\u0e14\u0e34\u0e40\u0e01\u0e15  \u0e08\u0e33\u0e01\u0e31\u0e14 (\u0e21\u0e2b\u0e32\u0e0a\u0e19)"
       ]
      },
      {
       "output_type": "stream",
       "stream": "stdout",
       "text": [
        " 0\n",
        "\u0e19\u0e28.\u0e04\u0e13\u0e30\u0e01\u0e32\u0e22\u0e20\u0e32\u0e1e\u0e1a\u0e33\u0e1a\u0e31\u0e14 \u0e21. \u0e21\u0e2b\u0e34\u0e14\u0e25"
       ]
      },
      {
       "output_type": "stream",
       "stream": "stdout",
       "text": [
        " 0\n",
        "\u0e19\u0e28.\u0e04\u0e13\u0e30\u0e2a\u0e31\u0e15\u0e27\u0e41\u0e1e\u0e17\u0e22\u0e4c\u0e28\u0e32\u0e2a\u0e15\u0e23\u0e4c \u0e21.\u0e21\u0e2b\u0e34\u0e14\u0e25 0\n",
        "\u0e19\u0e28.\u0e27\u0e34\u0e17\u0e22\u0e32\u0e25\u0e31\u0e22\u0e27\u0e34\u0e17\u0e22\u0e32\u0e28\u0e32\u0e2a\u0e15\u0e23\u0e4c\u0e41\u0e25\u0e30\u0e40\u0e17\u0e04\u0e42\u0e19\u0e42\u0e25\u0e22\u0e35\u0e01\u0e32\u0e23\u0e01\u0e35\u0e2c\u0e32 \u0e21.\u0e21\u0e2b\u0e34\u0e14\u0e25 0\n",
        "... 40\n",
        "\u0e19\u0e28.\u0e04\u0e13\u0e30\u0e27\u0e34\u0e28\u0e27\u0e01\u0e23\u0e23\u0e21\u0e28\u0e32\u0e2a\u0e15\u0e23\u0e4c \u0e21.\u0e21\u0e2b\u0e34\u0e14\u0e25"
       ]
      },
      {
       "output_type": "stream",
       "stream": "stdout",
       "text": [
        " 0\n",
        "\u0e19\u0e28.\u0e04\u0e13\u0e30\u0e40\u0e17\u0e04\u0e19\u0e34\u0e04\u0e01\u0e32\u0e23\u0e41\u0e1e\u0e17\u0e22\u0e4c \u0e21.\u0e21\u0e2b\u0e34\u0e14\u0e25"
       ]
      },
      {
       "output_type": "stream",
       "stream": "stdout",
       "text": [
        " 0\n",
        "\u0e2a\u0e33\u0e19\u0e31\u0e01\u0e07\u0e32\u0e19\u0e2a\u0e25\u0e32\u0e01\u0e01\u0e34\u0e19\u0e41\u0e1a\u0e48\u0e07\u0e23\u0e31\u0e10\u0e1a\u0e32\u0e25"
       ]
      },
      {
       "output_type": "stream",
       "stream": "stdout",
       "text": [
        " 0\n",
        "\u0e0a\u0e38\u0e21\u0e0a\u0e19\u0e04\u0e25\u0e2d\u0e07\u0e43\u0e2b\u0e21\u0e48 (\u0e27\u0e31\u0e14\u0e1a\u0e32\u0e07\u0e0a\u0e49\u0e32\u0e07\u0e40\u0e2b\u0e19\u0e37\u0e2d)"
       ]
      },
      {
       "output_type": "stream",
       "stream": "stdout",
       "text": [
        " 0\n",
        "\u0e23\u0e1e.\u0e2a\u0e48\u0e07\u0e40\u0e2a\u0e23\u0e34\u0e21\u0e2a\u0e38\u0e02\u0e20\u0e32\u0e1e\u0e15\u0e33\u0e1a\u0e25\u0e21\u0e2b\u0e32\u0e2a\u0e27\u0e31\u0e2a\u0e14\u0e34\u0e4c"
       ]
      },
      {
       "output_type": "stream",
       "stream": "stdout",
       "text": [
        " 0\n",
        "..."
       ]
      },
      {
       "output_type": "stream",
       "stream": "stdout",
       "text": [
        " 60\n",
        "..."
       ]
      },
      {
       "output_type": "stream",
       "stream": "stdout",
       "text": [
        " 80\n",
        "\u0e1c\u0e39\u0e49\u0e1b\u0e23\u0e30\u0e01\u0e2d\u0e1a\u0e01\u0e32\u0e23\u0e23\u0e49\u0e32\u0e19\u0e2d\u0e32\u0e2b\u0e32\u0e23 \u0e04\u0e13\u0e30\u0e40\u0e17\u0e04\u0e19\u0e34\u0e04\u0e01\u0e32\u0e23\u0e41\u0e1e\u0e17\u0e22\u0e4c"
       ]
      },
      {
       "output_type": "stream",
       "stream": "stdout",
       "text": [
        " 0\n",
        "..."
       ]
      },
      {
       "output_type": "stream",
       "stream": "stdout",
       "text": [
        " 100\n",
        "\u0e1a\u0e23\u0e34\u0e29\u0e31\u0e17 \u0e2d\u0e32\u0e04\u0e40\u0e19\u0e22\u0e4c\u0e2d\u0e38\u0e15\u0e2a\u0e32\u0e2b\u0e01\u0e23\u0e23\u0e21\u0e1a\u0e23\u0e23\u0e08\u0e38\u0e20\u0e31\u0e13\u0e11\u0e4c \u0e08\u0e33\u0e01\u0e31\u0e14"
       ]
      },
      {
       "output_type": "stream",
       "stream": "stdout",
       "text": [
        " 0\n",
        "\u0e1c\u0e39\u0e49\u0e1b\u0e23\u0e30\u0e01\u0e2d\u0e1a\u0e23\u0e49\u0e32\u0e19\u0e2d\u0e32\u0e2b\u0e32\u0e23\u0e21\u0e2b\u0e32\u0e27\u0e34\u0e17\u0e22\u0e32\u0e25\u0e31\u0e22\u0e21\u0e2b\u0e34\u0e14\u0e25"
       ]
      },
      {
       "output_type": "stream",
       "stream": "stdout",
       "text": [
        " 0\n",
        "\u0e1a\u0e23\u0e34\u0e29\u0e31\u0e17  \u0e16\u0e49\u0e27\u0e22\u0e17\u0e2d\u0e07\u0e42\u0e2d\u0e2a\u0e16  \u0e08\u0e33\u0e01\u0e31\u0e14"
       ]
      },
      {
       "output_type": "stream",
       "stream": "stdout",
       "text": [
        " 0\n",
        "\u0e42\u0e23\u0e07\u0e40\u0e23\u0e35\u0e22\u0e19\u0e08\u0e34\u0e15\u0e23\u0e25\u0e14\u0e32"
       ]
      },
      {
       "output_type": "stream",
       "stream": "stdout",
       "text": [
        " 0\n",
        "\u0e1a\u0e23\u0e34\u0e29\u0e31\u0e17 \u0e40\u0e1a\u0e15\u0e40\u0e15\u0e2d\u0e23\u0e4c\u0e40\u0e27\u0e34\u0e25\u0e14\u0e4c\u0e01\u0e23\u0e35\u0e19 \u0e08\u0e33\u0e01\u0e31\u0e14 (\u0e21\u0e2b\u0e32\u0e0a\u0e19)"
       ]
      },
      {
       "output_type": "stream",
       "stream": "stdout",
       "text": [
        " 0\n",
        "\u0e19\u0e34\u0e17\u0e23\u0e23\u0e28\u0e01\u0e32\u0e23\u0e40\u0e1e\u0e37\u0e48\u0e2d\u0e2b\u0e31\u0e27\u0e43\u0e08\u0e44\u0e17\u0e22\r\n",
        "\r\n",
        "\r\n",
        "  \u0e40\u0e1e\u0e37\u0e48\u0e2d\u0e2b\u0e31\u0e27\u0e43\u0e08\u0e44\u0e17\u0e22"
       ]
      },
      {
       "output_type": "stream",
       "stream": "stdout",
       "text": [
        " 0\n"
       ]
      },
      {
       "ename": "IndexError",
       "evalue": "list index out of range",
       "output_type": "pyerr",
       "traceback": [
        "\u001b[0;31m---------------------------------------------------------------------------\u001b[0m\n\u001b[0;31mIndexError\u001b[0m                                Traceback (most recent call last)",
        "\u001b[0;32m<ipython-input-308-60c7af38a687>\u001b[0m in \u001b[0;36m<module>\u001b[0;34m()\u001b[0m\n\u001b[1;32m     33\u001b[0m                                                     \u001b[0;34m'Total Cholesterol-a'\u001b[0m\u001b[0;34m,\u001b[0m \u001b[0;34m'Total Cholesterol-b'\u001b[0m\u001b[0;34m,\u001b[0m\u001b[0;34m'HDL-C'\u001b[0m\u001b[0;34m,\u001b[0m\u001b[0;34m\u001b[0m\u001b[0m\n\u001b[1;32m     34\u001b[0m                                                     'LDL-C (Calculated)', 'CBC_Hemoglobin']].sum(axis=1)\n\u001b[0;32m---> 35\u001b[0;31m     \u001b[0;32mprint\u001b[0m \u001b[0;34m'Year %d, average droped data=%.2f'\u001b[0m \u001b[0;34m%\u001b[0m \u001b[0;34m(\u001b[0m\u001b[0mdf_subset\u001b[0m\u001b[0;34m.\u001b[0m\u001b[0myear\u001b[0m\u001b[0;34m.\u001b[0m\u001b[0mtolist\u001b[0m\u001b[0;34m(\u001b[0m\u001b[0;34m)\u001b[0m\u001b[0;34m[\u001b[0m\u001b[0;36m0\u001b[0m\u001b[0;34m]\u001b[0m\u001b[0;34m,\u001b[0m \u001b[0mnp\u001b[0m\u001b[0;34m.\u001b[0m\u001b[0mmean\u001b[0m\u001b[0;34m(\u001b[0m\u001b[0mdrop_percnt\u001b[0m\u001b[0;34m)\u001b[0m\u001b[0;34m)\u001b[0m\u001b[0;34m\u001b[0m\u001b[0m\n\u001b[0m\u001b[1;32m     36\u001b[0m \u001b[0;32mprint\u001b[0m \u001b[0mkpi_scores\u001b[0m\u001b[0;34m.\u001b[0m\u001b[0mhead\u001b[0m\u001b[0;34m(\u001b[0m\u001b[0;34m)\u001b[0m\u001b[0;34m\u001b[0m\u001b[0m\n",
        "\u001b[0;31mIndexError\u001b[0m: list index out of range"
       ]
      }
     ],
     "prompt_number": 308
    },
    {
     "cell_type": "code",
     "collapsed": false,
     "input": [
      "kpi_scores[kpi_scores['Year']==2554].tail()"
     ],
     "language": "python",
     "metadata": {},
     "outputs": [
      {
       "html": [
        "<div style=\"max-height:1000px;max-width:1500px;overflow:auto;\">\n",
        "<table border=\"1\" class=\"dataframe\">\n",
        "  <thead>\n",
        "    <tr style=\"text-align: right;\">\n",
        "      <th></th>\n",
        "      <th>BMI</th>\n",
        "      <th>BP</th>\n",
        "      <th>CBC_Hemoglobin</th>\n",
        "      <th>Creatinine</th>\n",
        "      <th>Glucose</th>\n",
        "      <th>HDL-C</th>\n",
        "      <th>LDL-C (Calculated)</th>\n",
        "      <th>Location</th>\n",
        "      <th>MS</th>\n",
        "      <th>Total Cholesterol-a</th>\n",
        "      <th>Total Cholesterol-b</th>\n",
        "      <th>Year</th>\n",
        "      <th>total_score</th>\n",
        "    </tr>\n",
        "  </thead>\n",
        "  <tbody>\n",
        "    <tr>\n",
        "      <th>360</th>\n",
        "      <td> 0</td>\n",
        "      <td> 0</td>\n",
        "      <td> 1</td>\n",
        "      <td> 1</td>\n",
        "      <td> 1</td>\n",
        "      <td> 1</td>\n",
        "      <td> 0</td>\n",
        "      <td>      \u0e2b\u0e2d\u0e2a\u0e21\u0e38\u0e14\u0e41\u0e25\u0e30\u0e04\u0e25\u0e31\u0e07\u0e04\u0e27\u0e32\u0e21\u0e23\u0e39\u0e49\u0e21\u0e2b\u0e32\u0e27\u0e34\u0e17\u0e22\u0e32\u0e25\u0e31\u0e22\u0e21\u0e2b\u0e34\u0e14\u0e25</td>\n",
        "      <td> 0</td>\n",
        "      <td> 0</td>\n",
        "      <td> 1</td>\n",
        "      <td> 2554</td>\n",
        "      <td> 5</td>\n",
        "    </tr>\n",
        "    <tr>\n",
        "      <th>361</th>\n",
        "      <td> 0</td>\n",
        "      <td> 0</td>\n",
        "      <td> 1</td>\n",
        "      <td> 1</td>\n",
        "      <td> 1</td>\n",
        "      <td> 0</td>\n",
        "      <td> 0</td>\n",
        "      <td> CAPITAL ADVISARY SERVICES (THAILAND) LTD.</td>\n",
        "      <td> 0</td>\n",
        "      <td> 0</td>\n",
        "      <td> 1</td>\n",
        "      <td> 2554</td>\n",
        "      <td> 4</td>\n",
        "    </tr>\n",
        "    <tr>\n",
        "      <th>362</th>\n",
        "      <td> 0</td>\n",
        "      <td> 0</td>\n",
        "      <td> 1</td>\n",
        "      <td> 1</td>\n",
        "      <td> 1</td>\n",
        "      <td> 1</td>\n",
        "      <td> 0</td>\n",
        "      <td>            \u0e1a\u0e23\u0e34\u0e29\u0e31\u0e17\u0e01\u0e34\u0e1a\u0e44\u0e17\u0e22 (\u0e1b\u0e23\u0e30\u0e40\u0e17\u0e28\u0e44\u0e17\u0e22) \u0e08\u0e33\u0e01\u0e31\u0e14</td>\n",
        "      <td> 0</td>\n",
        "      <td> 0</td>\n",
        "      <td> 1</td>\n",
        "      <td> 2554</td>\n",
        "      <td> 5</td>\n",
        "    </tr>\n",
        "    <tr>\n",
        "      <th>363</th>\n",
        "      <td> 0</td>\n",
        "      <td> 0</td>\n",
        "      <td> 1</td>\n",
        "      <td> 1</td>\n",
        "      <td> 1</td>\n",
        "      <td> 0</td>\n",
        "      <td> 0</td>\n",
        "      <td>       \u0e42\u0e23\u0e07\u0e40\u0e23\u0e35\u0e22\u0e19\u0e1a\u0e14\u0e34\u0e19\u0e17\u0e23\u0e40\u0e14\u0e0a\u0e32 (\u0e2a\u0e34\u0e07\u0e2b\u0e4c \u0e2a\u0e34\u0e07\u0e2b\u0e40\u0e2a\u0e19\u0e35)</td>\n",
        "      <td> 0</td>\n",
        "      <td> 0</td>\n",
        "      <td> 1</td>\n",
        "      <td> 2554</td>\n",
        "      <td> 4</td>\n",
        "    </tr>\n",
        "    <tr>\n",
        "      <th>364</th>\n",
        "      <td> 0</td>\n",
        "      <td> 0</td>\n",
        "      <td> 1</td>\n",
        "      <td> 1</td>\n",
        "      <td> 1</td>\n",
        "      <td> 1</td>\n",
        "      <td> 0</td>\n",
        "      <td>                      \u0e42\u0e23\u0e07\u0e40\u0e23\u0e35\u0e22\u0e19\u0e40\u0e1a\u0e0d\u0e08\u0e21\u0e23\u0e32\u0e0a\u0e32\u0e25\u0e31\u0e22</td>\n",
        "      <td> 0</td>\n",
        "      <td> 0</td>\n",
        "      <td> 1</td>\n",
        "      <td> 2554</td>\n",
        "      <td> 5</td>\n",
        "    </tr>\n",
        "  </tbody>\n",
        "</table>\n",
        "</div>"
       ],
       "metadata": {},
       "output_type": "pyout",
       "prompt_number": 309,
       "text": [
        "     BMI  BP  CBC_Hemoglobin  Creatinine  Glucose  HDL-C  LDL-C (Calculated)  \\\n",
        "360    0   0               1           1        1      1                   0   \n",
        "361    0   0               1           1        1      0                   0   \n",
        "362    0   0               1           1        1      1                   0   \n",
        "363    0   0               1           1        1      0                   0   \n",
        "364    0   0               1           1        1      1                   0   \n",
        "\n",
        "                                      Location  MS  Total Cholesterol-a  \\\n",
        "360       \u0e2b\u0e2d\u0e2a\u0e21\u0e38\u0e14\u0e41\u0e25\u0e30\u0e04\u0e25\u0e31\u0e07\u0e04\u0e27\u0e32\u0e21\u0e23\u0e39\u0e49\u0e21\u0e2b\u0e32\u0e27\u0e34\u0e17\u0e22\u0e32\u0e25\u0e31\u0e22\u0e21\u0e2b\u0e34\u0e14\u0e25   0                    0   \n",
        "361  CAPITAL ADVISARY SERVICES (THAILAND) LTD.   0                    0   \n",
        "362             \u0e1a\u0e23\u0e34\u0e29\u0e31\u0e17\u0e01\u0e34\u0e1a\u0e44\u0e17\u0e22 (\u0e1b\u0e23\u0e30\u0e40\u0e17\u0e28\u0e44\u0e17\u0e22) \u0e08\u0e33\u0e01\u0e31\u0e14   0                    0   \n",
        "363        \u0e42\u0e23\u0e07\u0e40\u0e23\u0e35\u0e22\u0e19\u0e1a\u0e14\u0e34\u0e19\u0e17\u0e23\u0e40\u0e14\u0e0a\u0e32 (\u0e2a\u0e34\u0e07\u0e2b\u0e4c \u0e2a\u0e34\u0e07\u0e2b\u0e40\u0e2a\u0e19\u0e35)   0                    0   \n",
        "364                       \u0e42\u0e23\u0e07\u0e40\u0e23\u0e35\u0e22\u0e19\u0e40\u0e1a\u0e0d\u0e08\u0e21\u0e23\u0e32\u0e0a\u0e32\u0e25\u0e31\u0e22   0                    0   \n",
        "\n",
        "     Total Cholesterol-b  Year  total_score  \n",
        "360                    1  2554            5  \n",
        "361                    1  2554            4  \n",
        "362                    1  2554            5  \n",
        "363                    1  2554            4  \n",
        "364                    1  2554            5  "
       ]
      }
     ],
     "prompt_number": 309
    },
    {
     "cell_type": "code",
     "collapsed": false,
     "input": [
      "kpi_scores.to_excel('kpi.xls', header=True, index=False, sheet_name='kpi')"
     ],
     "language": "python",
     "metadata": {},
     "outputs": [],
     "prompt_number": 311
    },
    {
     "cell_type": "code",
     "collapsed": false,
     "input": [
      "for location in kpi_scores['Location'].unique():\n",
      "    for loc in kpi_scores[kpi_scores['Location']==location]:\n",
      "        for year in [2551,2552,2553,2554,2555]:\n",
      "            plt.plot(kpi_scores[kpi_scores['Year']==year]['total_score'].tolist(),\n",
      "                     marker='o')\n",
      "\n",
      "plt.xticks(range(len(kpi_scores[kpi_scores['Year']==2551]['Location'])),\n",
      "           ['Asean Institute',\n",
      "            'Library',\n",
      "            'Institute of Population\\nand Social Research',\n",
      "            'Institute of Molecular\\nBiosciences'],\n",
      "           rotation=80,\n",
      "           )\n",
      "plt.ylim(0,10)\n",
      "plt.legend()"
     ],
     "language": "python",
     "metadata": {},
     "outputs": [
      {
       "metadata": {},
       "output_type": "display_data",
       "png": "[encoded data removed]",
       "text": [
        "<matplotlib.figure.Figure at 0x10f132510>"
       ]
      }
     ],
     "prompt_number": 264
    },
    {
     "cell_type": "code",
     "collapsed": false,
     "input": [
      "kpi_scores.head(n=30)"
     ],
     "language": "python",
     "metadata": {},
     "outputs": [
      {
       "html": [
        "<div style=\"max-height:1000px;max-width:1500px;overflow:auto;\">\n",
        "<table border=\"1\" class=\"dataframe\">\n",
        "  <thead>\n",
        "    <tr style=\"text-align: right;\">\n",
        "      <th></th>\n",
        "      <th>BMI</th>\n",
        "      <th>BP</th>\n",
        "      <th>CBC_Hemoglobin</th>\n",
        "      <th>Creatinine</th>\n",
        "      <th>Glucose</th>\n",
        "      <th>HDL-C</th>\n",
        "      <th>LDL-C (Calculated)</th>\n",
        "      <th>Location</th>\n",
        "      <th>MS</th>\n",
        "      <th>Total Cholesterol-a</th>\n",
        "      <th>Total Cholesterol-b</th>\n",
        "      <th>Year</th>\n",
        "      <th>total_score</th>\n",
        "    </tr>\n",
        "  </thead>\n",
        "  <tbody>\n",
        "    <tr>\n",
        "      <th>0 </th>\n",
        "      <td> 0</td>\n",
        "      <td> 0</td>\n",
        "      <td> 1</td>\n",
        "      <td> 1</td>\n",
        "      <td> 1</td>\n",
        "      <td> 0</td>\n",
        "      <td> 0</td>\n",
        "      <td> CAPITAL ADVISARY SERVICES (THAILAND) LTD.</td>\n",
        "      <td> 0</td>\n",
        "      <td> 0</td>\n",
        "      <td> 1</td>\n",
        "      <td> 2551</td>\n",
        "      <td> 4</td>\n",
        "    </tr>\n",
        "    <tr>\n",
        "      <th>1 </th>\n",
        "      <td> 0</td>\n",
        "      <td> 0</td>\n",
        "      <td> 1</td>\n",
        "      <td> 1</td>\n",
        "      <td> 1</td>\n",
        "      <td> 0</td>\n",
        "      <td> 0</td>\n",
        "      <td> CAPITAL ADVISARY SERVICES (THAILAND) LTD.</td>\n",
        "      <td> 0</td>\n",
        "      <td> 0</td>\n",
        "      <td> 1</td>\n",
        "      <td> 2552</td>\n",
        "      <td> 4</td>\n",
        "    </tr>\n",
        "    <tr>\n",
        "      <th>2 </th>\n",
        "      <td> 0</td>\n",
        "      <td> 1</td>\n",
        "      <td> 1</td>\n",
        "      <td> 1</td>\n",
        "      <td> 0</td>\n",
        "      <td> 0</td>\n",
        "      <td> 1</td>\n",
        "      <td> CAPITAL ADVISARY SERVICES (THAILAND) LTD.</td>\n",
        "      <td> 0</td>\n",
        "      <td> 0</td>\n",
        "      <td> 1</td>\n",
        "      <td> 2553</td>\n",
        "      <td> 5</td>\n",
        "    </tr>\n",
        "    <tr>\n",
        "      <th>3 </th>\n",
        "      <td> 0</td>\n",
        "      <td> 0</td>\n",
        "      <td> 1</td>\n",
        "      <td> 1</td>\n",
        "      <td> 1</td>\n",
        "      <td> 0</td>\n",
        "      <td> 0</td>\n",
        "      <td> CAPITAL ADVISARY SERVICES (THAILAND) LTD.</td>\n",
        "      <td> 0</td>\n",
        "      <td> 0</td>\n",
        "      <td> 1</td>\n",
        "      <td> 2554</td>\n",
        "      <td> 4</td>\n",
        "    </tr>\n",
        "    <tr>\n",
        "      <th>4 </th>\n",
        "      <td> 0</td>\n",
        "      <td> 0</td>\n",
        "      <td> 1</td>\n",
        "      <td> 1</td>\n",
        "      <td> 0</td>\n",
        "      <td> 0</td>\n",
        "      <td> 0</td>\n",
        "      <td> CAPITAL ADVISARY SERVICES (THAILAND) LTD.</td>\n",
        "      <td> 0</td>\n",
        "      <td> 0</td>\n",
        "      <td> 1</td>\n",
        "      <td> 2555</td>\n",
        "      <td> 3</td>\n",
        "    </tr>\n",
        "    <tr>\n",
        "      <th>5 </th>\n",
        "      <td> 0</td>\n",
        "      <td> 0</td>\n",
        "      <td> 1</td>\n",
        "      <td> 1</td>\n",
        "      <td> 1</td>\n",
        "      <td> 0</td>\n",
        "      <td> 0</td>\n",
        "      <td> CAPITAL ADVISARY SERVICES (THAILAND) LTD.</td>\n",
        "      <td> 0</td>\n",
        "      <td> 0</td>\n",
        "      <td> 1</td>\n",
        "      <td> 2551</td>\n",
        "      <td> 4</td>\n",
        "    </tr>\n",
        "    <tr>\n",
        "      <th>6 </th>\n",
        "      <td> 0</td>\n",
        "      <td> 0</td>\n",
        "      <td> 1</td>\n",
        "      <td> 1</td>\n",
        "      <td> 1</td>\n",
        "      <td> 0</td>\n",
        "      <td> 0</td>\n",
        "      <td> CAPITAL ADVISARY SERVICES (THAILAND) LTD.</td>\n",
        "      <td> 0</td>\n",
        "      <td> 0</td>\n",
        "      <td> 1</td>\n",
        "      <td> 2552</td>\n",
        "      <td> 4</td>\n",
        "    </tr>\n",
        "    <tr>\n",
        "      <th>7 </th>\n",
        "      <td> 0</td>\n",
        "      <td> 1</td>\n",
        "      <td> 1</td>\n",
        "      <td> 1</td>\n",
        "      <td> 0</td>\n",
        "      <td> 0</td>\n",
        "      <td> 1</td>\n",
        "      <td> CAPITAL ADVISARY SERVICES (THAILAND) LTD.</td>\n",
        "      <td> 0</td>\n",
        "      <td> 0</td>\n",
        "      <td> 1</td>\n",
        "      <td> 2553</td>\n",
        "      <td> 5</td>\n",
        "    </tr>\n",
        "    <tr>\n",
        "      <th>8 </th>\n",
        "      <td> 0</td>\n",
        "      <td> 0</td>\n",
        "      <td> 1</td>\n",
        "      <td> 1</td>\n",
        "      <td> 1</td>\n",
        "      <td> 0</td>\n",
        "      <td> 0</td>\n",
        "      <td> CAPITAL ADVISARY SERVICES (THAILAND) LTD.</td>\n",
        "      <td> 0</td>\n",
        "      <td> 0</td>\n",
        "      <td> 1</td>\n",
        "      <td> 2554</td>\n",
        "      <td> 4</td>\n",
        "    </tr>\n",
        "    <tr>\n",
        "      <th>9 </th>\n",
        "      <td> 0</td>\n",
        "      <td> 0</td>\n",
        "      <td> 1</td>\n",
        "      <td> 1</td>\n",
        "      <td> 0</td>\n",
        "      <td> 0</td>\n",
        "      <td> 0</td>\n",
        "      <td> CAPITAL ADVISARY SERVICES (THAILAND) LTD.</td>\n",
        "      <td> 0</td>\n",
        "      <td> 0</td>\n",
        "      <td> 1</td>\n",
        "      <td> 2555</td>\n",
        "      <td> 3</td>\n",
        "    </tr>\n",
        "    <tr>\n",
        "      <th>10</th>\n",
        "      <td> 0</td>\n",
        "      <td> 0</td>\n",
        "      <td> 1</td>\n",
        "      <td> 1</td>\n",
        "      <td> 1</td>\n",
        "      <td> 0</td>\n",
        "      <td> 0</td>\n",
        "      <td> CAPITAL ADVISARY SERVICES (THAILAND) LTD.</td>\n",
        "      <td> 0</td>\n",
        "      <td> 0</td>\n",
        "      <td> 1</td>\n",
        "      <td> 2551</td>\n",
        "      <td> 4</td>\n",
        "    </tr>\n",
        "    <tr>\n",
        "      <th>11</th>\n",
        "      <td> 0</td>\n",
        "      <td> 0</td>\n",
        "      <td> 1</td>\n",
        "      <td> 1</td>\n",
        "      <td> 1</td>\n",
        "      <td> 0</td>\n",
        "      <td> 0</td>\n",
        "      <td> CAPITAL ADVISARY SERVICES (THAILAND) LTD.</td>\n",
        "      <td> 0</td>\n",
        "      <td> 0</td>\n",
        "      <td> 1</td>\n",
        "      <td> 2552</td>\n",
        "      <td> 4</td>\n",
        "    </tr>\n",
        "    <tr>\n",
        "      <th>12</th>\n",
        "      <td> 0</td>\n",
        "      <td> 1</td>\n",
        "      <td> 1</td>\n",
        "      <td> 1</td>\n",
        "      <td> 0</td>\n",
        "      <td> 0</td>\n",
        "      <td> 1</td>\n",
        "      <td> CAPITAL ADVISARY SERVICES (THAILAND) LTD.</td>\n",
        "      <td> 0</td>\n",
        "      <td> 0</td>\n",
        "      <td> 1</td>\n",
        "      <td> 2553</td>\n",
        "      <td> 5</td>\n",
        "    </tr>\n",
        "    <tr>\n",
        "      <th>13</th>\n",
        "      <td> 0</td>\n",
        "      <td> 0</td>\n",
        "      <td> 1</td>\n",
        "      <td> 1</td>\n",
        "      <td> 1</td>\n",
        "      <td> 0</td>\n",
        "      <td> 0</td>\n",
        "      <td> CAPITAL ADVISARY SERVICES (THAILAND) LTD.</td>\n",
        "      <td> 0</td>\n",
        "      <td> 0</td>\n",
        "      <td> 1</td>\n",
        "      <td> 2554</td>\n",
        "      <td> 4</td>\n",
        "    </tr>\n",
        "    <tr>\n",
        "      <th>14</th>\n",
        "      <td> 0</td>\n",
        "      <td> 0</td>\n",
        "      <td> 1</td>\n",
        "      <td> 1</td>\n",
        "      <td> 0</td>\n",
        "      <td> 0</td>\n",
        "      <td> 0</td>\n",
        "      <td> CAPITAL ADVISARY SERVICES (THAILAND) LTD.</td>\n",
        "      <td> 0</td>\n",
        "      <td> 0</td>\n",
        "      <td> 1</td>\n",
        "      <td> 2555</td>\n",
        "      <td> 3</td>\n",
        "    </tr>\n",
        "    <tr>\n",
        "      <th>15</th>\n",
        "      <td> 0</td>\n",
        "      <td> 0</td>\n",
        "      <td> 1</td>\n",
        "      <td> 1</td>\n",
        "      <td> 1</td>\n",
        "      <td> 1</td>\n",
        "      <td> 0</td>\n",
        "      <td>                   RMC gems thai Co., Ltd.</td>\n",
        "      <td> 1</td>\n",
        "      <td> 0</td>\n",
        "      <td> 0</td>\n",
        "      <td> 2554</td>\n",
        "      <td> 4</td>\n",
        "    </tr>\n",
        "    <tr>\n",
        "      <th>16</th>\n",
        "      <td> 0</td>\n",
        "      <td> 0</td>\n",
        "      <td> 1</td>\n",
        "      <td> 1</td>\n",
        "      <td> 1</td>\n",
        "      <td> 0</td>\n",
        "      <td> 0</td>\n",
        "      <td> CAPITAL ADVISARY SERVICES (THAILAND) LTD.</td>\n",
        "      <td> 0</td>\n",
        "      <td> 0</td>\n",
        "      <td> 1</td>\n",
        "      <td> 2551</td>\n",
        "      <td> 4</td>\n",
        "    </tr>\n",
        "    <tr>\n",
        "      <th>17</th>\n",
        "      <td> 0</td>\n",
        "      <td> 0</td>\n",
        "      <td> 1</td>\n",
        "      <td> 1</td>\n",
        "      <td> 1</td>\n",
        "      <td> 0</td>\n",
        "      <td> 0</td>\n",
        "      <td> CAPITAL ADVISARY SERVICES (THAILAND) LTD.</td>\n",
        "      <td> 0</td>\n",
        "      <td> 0</td>\n",
        "      <td> 1</td>\n",
        "      <td> 2552</td>\n",
        "      <td> 4</td>\n",
        "    </tr>\n",
        "    <tr>\n",
        "      <th>18</th>\n",
        "      <td> 0</td>\n",
        "      <td> 1</td>\n",
        "      <td> 1</td>\n",
        "      <td> 1</td>\n",
        "      <td> 0</td>\n",
        "      <td> 0</td>\n",
        "      <td> 1</td>\n",
        "      <td> CAPITAL ADVISARY SERVICES (THAILAND) LTD.</td>\n",
        "      <td> 0</td>\n",
        "      <td> 0</td>\n",
        "      <td> 1</td>\n",
        "      <td> 2553</td>\n",
        "      <td> 5</td>\n",
        "    </tr>\n",
        "    <tr>\n",
        "      <th>19</th>\n",
        "      <td> 0</td>\n",
        "      <td> 0</td>\n",
        "      <td> 1</td>\n",
        "      <td> 1</td>\n",
        "      <td> 1</td>\n",
        "      <td> 0</td>\n",
        "      <td> 0</td>\n",
        "      <td> CAPITAL ADVISARY SERVICES (THAILAND) LTD.</td>\n",
        "      <td> 0</td>\n",
        "      <td> 0</td>\n",
        "      <td> 1</td>\n",
        "      <td> 2554</td>\n",
        "      <td> 4</td>\n",
        "    </tr>\n",
        "    <tr>\n",
        "      <th>20</th>\n",
        "      <td> 0</td>\n",
        "      <td> 0</td>\n",
        "      <td> 1</td>\n",
        "      <td> 1</td>\n",
        "      <td> 0</td>\n",
        "      <td> 0</td>\n",
        "      <td> 0</td>\n",
        "      <td> CAPITAL ADVISARY SERVICES (THAILAND) LTD.</td>\n",
        "      <td> 0</td>\n",
        "      <td> 0</td>\n",
        "      <td> 1</td>\n",
        "      <td> 2555</td>\n",
        "      <td> 3</td>\n",
        "    </tr>\n",
        "    <tr>\n",
        "      <th>21</th>\n",
        "      <td> 0</td>\n",
        "      <td> 0</td>\n",
        "      <td> 1</td>\n",
        "      <td> 1</td>\n",
        "      <td> 1</td>\n",
        "      <td> 1</td>\n",
        "      <td> 0</td>\n",
        "      <td>                   RMC gems thai Co., Ltd.</td>\n",
        "      <td> 1</td>\n",
        "      <td> 0</td>\n",
        "      <td> 0</td>\n",
        "      <td> 2554</td>\n",
        "      <td> 4</td>\n",
        "    </tr>\n",
        "    <tr>\n",
        "      <th>22</th>\n",
        "      <td> 0</td>\n",
        "      <td> 0</td>\n",
        "      <td> 1</td>\n",
        "      <td> 1</td>\n",
        "      <td> 1</td>\n",
        "      <td> 0</td>\n",
        "      <td> 0</td>\n",
        "      <td> CAPITAL ADVISARY SERVICES (THAILAND) LTD.</td>\n",
        "      <td> 0</td>\n",
        "      <td> 0</td>\n",
        "      <td> 1</td>\n",
        "      <td> 2551</td>\n",
        "      <td> 4</td>\n",
        "    </tr>\n",
        "    <tr>\n",
        "      <th>23</th>\n",
        "      <td> 0</td>\n",
        "      <td> 0</td>\n",
        "      <td> 1</td>\n",
        "      <td> 1</td>\n",
        "      <td> 1</td>\n",
        "      <td> 0</td>\n",
        "      <td> 0</td>\n",
        "      <td> CAPITAL ADVISARY SERVICES (THAILAND) LTD.</td>\n",
        "      <td> 0</td>\n",
        "      <td> 0</td>\n",
        "      <td> 1</td>\n",
        "      <td> 2552</td>\n",
        "      <td> 4</td>\n",
        "    </tr>\n",
        "    <tr>\n",
        "      <th>24</th>\n",
        "      <td> 0</td>\n",
        "      <td> 1</td>\n",
        "      <td> 1</td>\n",
        "      <td> 1</td>\n",
        "      <td> 0</td>\n",
        "      <td> 0</td>\n",
        "      <td> 1</td>\n",
        "      <td> CAPITAL ADVISARY SERVICES (THAILAND) LTD.</td>\n",
        "      <td> 0</td>\n",
        "      <td> 0</td>\n",
        "      <td> 1</td>\n",
        "      <td> 2553</td>\n",
        "      <td> 5</td>\n",
        "    </tr>\n",
        "    <tr>\n",
        "      <th>25</th>\n",
        "      <td> 0</td>\n",
        "      <td> 0</td>\n",
        "      <td> 1</td>\n",
        "      <td> 1</td>\n",
        "      <td> 1</td>\n",
        "      <td> 0</td>\n",
        "      <td> 0</td>\n",
        "      <td> CAPITAL ADVISARY SERVICES (THAILAND) LTD.</td>\n",
        "      <td> 0</td>\n",
        "      <td> 0</td>\n",
        "      <td> 1</td>\n",
        "      <td> 2554</td>\n",
        "      <td> 4</td>\n",
        "    </tr>\n",
        "    <tr>\n",
        "      <th>26</th>\n",
        "      <td> 0</td>\n",
        "      <td> 0</td>\n",
        "      <td> 1</td>\n",
        "      <td> 1</td>\n",
        "      <td> 0</td>\n",
        "      <td> 0</td>\n",
        "      <td> 0</td>\n",
        "      <td> CAPITAL ADVISARY SERVICES (THAILAND) LTD.</td>\n",
        "      <td> 0</td>\n",
        "      <td> 0</td>\n",
        "      <td> 1</td>\n",
        "      <td> 2555</td>\n",
        "      <td> 3</td>\n",
        "    </tr>\n",
        "  </tbody>\n",
        "</table>\n",
        "</div>"
       ],
       "metadata": {},
       "output_type": "pyout",
       "prompt_number": 287,
       "text": [
        "    BMI  BP  CBC_Hemoglobin  Creatinine  Glucose  HDL-C  LDL-C (Calculated)  \\\n",
        "0     0   0               1           1        1      0                   0   \n",
        "1     0   0               1           1        1      0                   0   \n",
        "2     0   1               1           1        0      0                   1   \n",
        "3     0   0               1           1        1      0                   0   \n",
        "4     0   0               1           1        0      0                   0   \n",
        "5     0   0               1           1        1      0                   0   \n",
        "6     0   0               1           1        1      0                   0   \n",
        "7     0   1               1           1        0      0                   1   \n",
        "8     0   0               1           1        1      0                   0   \n",
        "9     0   0               1           1        0      0                   0   \n",
        "10    0   0               1           1        1      0                   0   \n",
        "11    0   0               1           1        1      0                   0   \n",
        "12    0   1               1           1        0      0                   1   \n",
        "13    0   0               1           1        1      0                   0   \n",
        "14    0   0               1           1        0      0                   0   \n",
        "15    0   0               1           1        1      1                   0   \n",
        "16    0   0               1           1        1      0                   0   \n",
        "17    0   0               1           1        1      0                   0   \n",
        "18    0   1               1           1        0      0                   1   \n",
        "19    0   0               1           1        1      0                   0   \n",
        "20    0   0               1           1        0      0                   0   \n",
        "21    0   0               1           1        1      1                   0   \n",
        "22    0   0               1           1        1      0                   0   \n",
        "23    0   0               1           1        1      0                   0   \n",
        "24    0   1               1           1        0      0                   1   \n",
        "25    0   0               1           1        1      0                   0   \n",
        "26    0   0               1           1        0      0                   0   \n",
        "\n",
        "                                     Location  MS  Total Cholesterol-a  \\\n",
        "0   CAPITAL ADVISARY SERVICES (THAILAND) LTD.   0                    0   \n",
        "1   CAPITAL ADVISARY SERVICES (THAILAND) LTD.   0                    0   \n",
        "2   CAPITAL ADVISARY SERVICES (THAILAND) LTD.   0                    0   \n",
        "3   CAPITAL ADVISARY SERVICES (THAILAND) LTD.   0                    0   \n",
        "4   CAPITAL ADVISARY SERVICES (THAILAND) LTD.   0                    0   \n",
        "5   CAPITAL ADVISARY SERVICES (THAILAND) LTD.   0                    0   \n",
        "6   CAPITAL ADVISARY SERVICES (THAILAND) LTD.   0                    0   \n",
        "7   CAPITAL ADVISARY SERVICES (THAILAND) LTD.   0                    0   \n",
        "8   CAPITAL ADVISARY SERVICES (THAILAND) LTD.   0                    0   \n",
        "9   CAPITAL ADVISARY SERVICES (THAILAND) LTD.   0                    0   \n",
        "10  CAPITAL ADVISARY SERVICES (THAILAND) LTD.   0                    0   \n",
        "11  CAPITAL ADVISARY SERVICES (THAILAND) LTD.   0                    0   \n",
        "12  CAPITAL ADVISARY SERVICES (THAILAND) LTD.   0                    0   \n",
        "13  CAPITAL ADVISARY SERVICES (THAILAND) LTD.   0                    0   \n",
        "14  CAPITAL ADVISARY SERVICES (THAILAND) LTD.   0                    0   \n",
        "15                    RMC gems thai Co., Ltd.   1                    0   \n",
        "16  CAPITAL ADVISARY SERVICES (THAILAND) LTD.   0                    0   \n",
        "17  CAPITAL ADVISARY SERVICES (THAILAND) LTD.   0                    0   \n",
        "18  CAPITAL ADVISARY SERVICES (THAILAND) LTD.   0                    0   \n",
        "19  CAPITAL ADVISARY SERVICES (THAILAND) LTD.   0                    0   \n",
        "20  CAPITAL ADVISARY SERVICES (THAILAND) LTD.   0                    0   \n",
        "21                    RMC gems thai Co., Ltd.   1                    0   \n",
        "22  CAPITAL ADVISARY SERVICES (THAILAND) LTD.   0                    0   \n",
        "23  CAPITAL ADVISARY SERVICES (THAILAND) LTD.   0                    0   \n",
        "24  CAPITAL ADVISARY SERVICES (THAILAND) LTD.   0                    0   \n",
        "25  CAPITAL ADVISARY SERVICES (THAILAND) LTD.   0                    0   \n",
        "26  CAPITAL ADVISARY SERVICES (THAILAND) LTD.   0                    0   \n",
        "\n",
        "    Total Cholesterol-b  Year  total_score  \n",
        "0                     1  2551            4  \n",
        "1                     1  2552            4  \n",
        "2                     1  2553            5  \n",
        "3                     1  2554            4  \n",
        "4                     1  2555            3  \n",
        "5                     1  2551            4  \n",
        "6                     1  2552            4  \n",
        "7                     1  2553            5  \n",
        "8                     1  2554            4  \n",
        "9                     1  2555            3  \n",
        "10                    1  2551            4  \n",
        "11                    1  2552            4  \n",
        "12                    1  2553            5  \n",
        "13                    1  2554            4  \n",
        "14                    1  2555            3  \n",
        "15                    0  2554            4  \n",
        "16                    1  2551            4  \n",
        "17                    1  2552            4  \n",
        "18                    1  2553            5  \n",
        "19                    1  2554            4  \n",
        "20                    1  2555            3  \n",
        "21                    0  2554            4  \n",
        "22                    1  2551            4  \n",
        "23                    1  2552            4  \n",
        "24                    1  2553            5  \n",
        "25                    1  2554            4  \n",
        "26                    1  2555            3  "
       ]
      }
     ],
     "prompt_number": 287
    },
    {
     "cell_type": "code",
     "collapsed": false,
     "input": [],
     "language": "python",
     "metadata": {},
     "outputs": []
    }
   ],
   "metadata": {}
  }
 ]
}