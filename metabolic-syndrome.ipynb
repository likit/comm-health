{
 "metadata": {
  "name": "",
  "signature": "sha256:a4f1c7709012de23e987e687ee8ec5627f741aec4f0a3cb7ea786cb757e725e8"
 },
 "nbformat": 3,
 "nbformat_minor": 0,
 "worksheets": [
  {
   "cells": [
    {
     "cell_type": "code",
     "collapsed": false,
     "input": [
      "import pandas as pd\n",
      "import numpy as np"
     ],
     "language": "python",
     "metadata": {},
     "outputs": [],
     "prompt_number": 321
    },
    {
     "cell_type": "code",
     "collapsed": false,
     "input": [
      "colnames = ['No.', 'Title', 'Fullname', 'Age', 'Organization', 'Weight', 'Height', 'Heartbeat',\n",
      "            'BMI', 'Systolic', 'HLA', 'Serum', 'Gluc', 'BUN', 'Creat', 'Uric', 'Chol', 'TG',\n",
      "            'AST', 'AL', 'ALP', 'HDL', 'LDLD', 'Ca', 'GGT', 'Pb', 'HBsAg', 'HBsAb', 'HBcAb', 'HbA1c',\n",
      "            'T3','T4', 'TSH', 'PSA', 'AFP', 'CEA', 'Others', 'Blood', 'WBC', 'N %', 'L %', 'M %', 'E %',\n",
      "            'B %', 'PLT', 'Hb', 'Hct', 'RBC Morphology', 'Unnamed: 48', 'Unnamed: 49', 'Unnamed: 50',\n",
      "            'Sample', 'pH', 'Sp.gr.', 'Protein', 'Sugar', 'WBC.1', 'RBC', 'Sq.Epi.', 'Tran.Epi.',\n",
      "            'Bacteria', 'Amorp.', 'Cal.ox.', 'Uric a.', 'Others.1', 'Unnamed: 65', 'Sample.1', 'Parasite&ova',\n",
      "            'IFOBT', 'Unnamed: 69', 'Chest', '\u0e1c\u0e34\u0e14\u0e1b\u0e01\u0e15\u0e34', 'Unnamed: 72']"
     ],
     "language": "python",
     "metadata": {},
     "outputs": [],
     "prompt_number": 211
    },
    {
     "cell_type": "code",
     "collapsed": false,
     "input": [
      "def find_gender(s):\n",
      "    title = s.encode('utf-8')\n",
      "    if title == '\u0e14.\u0e0d.':\n",
      "        return 'female'\n",
      "    elif title == '\u0e19.\u0e2a.':\n",
      "        return 'female'\n",
      "    elif title == '\u0e19\u0e32\u0e07':\n",
      "        return 'female'\n",
      "    elif title == '\u0e19\u0e32\u0e22':\n",
      "        return 'male'\n",
      "    elif title == '\u0e1e\u0e23\u0e30':\n",
      "        return 'male'\n",
      "    elif title == '\u0e14.\u0e0a.':\n",
      "        return 'male'\n",
      "    else:\n",
      "        return None"
     ],
     "language": "python",
     "metadata": {},
     "outputs": [],
     "prompt_number": 213
    },
    {
     "cell_type": "code",
     "collapsed": false,
     "input": [
      "def find_ms(df):\n",
      "    df = df[df['BMI']>=25.0]\n",
      "\n",
      "    df['TG-s'] = df['TG']>=150.0\n",
      "    df['Gluc-s'] = df['Gluc'] >= 100.0\n",
      "    df['Systolic-s'] = df['Systolic']>=130.0\n",
      "    df['Diastolic-s'] = df['Diastolic'] >=85.0\n",
      "\n",
      "    df['TG-s'] = df['TG-s'].astype(int)\n",
      "    df['Gluc-s'] = df['Gluc-s'].astype(int)\n",
      "    df['BP-s'] = df['Systolic-s'] | df['Diastolic-s']\n",
      "    df['BP-s'] = df['BP-s'].astype(int)\n",
      "    \n",
      "    male_df = df[df['Gender'] == 'male']\n",
      "    female_df = df[df['Gender'] == 'female']\n",
      "    \n",
      "    male_df['HDL-s'] = male_df['HDL'] < 40.0\n",
      "    female_df['HDL-s'] = female_df['HDL'] < 50.0\n",
      "    female_df['HDL-s'] = female_df['HDL-s'].astype(int)\n",
      "    male_df['HDL-s'] = male_df['HDL-s'].astype(int)\n",
      "\n",
      "    male_df['MS'] = male_df[['BP-s', 'Gluc-s', 'TG-s', 'HDL-s']].sum(axis=1)\n",
      "    female_df['MS'] = female_df[['BP-s', 'Gluc-s', 'TG-s', 'HDL-s']].sum(axis=1)\n",
      "    return pd.concat([male_df, female_df])"
     ],
     "language": "python",
     "metadata": {},
     "outputs": [],
     "prompt_number": 237
    },
    {
     "cell_type": "code",
     "collapsed": false,
     "input": [
      "def replace_missing_value(s):\n",
      "    try:\n",
      "        value = float(s)\n",
      "    except:\n",
      "        return np.nan\n",
      "    else:\n",
      "        return float(s)"
     ],
     "language": "python",
     "metadata": {},
     "outputs": [],
     "prompt_number": 317
    },
    {
     "cell_type": "code",
     "collapsed": false,
     "input": [
      "def run(df, output_file):\n",
      "    df.columns = colnames\n",
      "    df['BMI'] = df['BMI'].apply(replace_missing_value)\n",
      "    df['TG'] = df['TG'].apply(replace_missing_value)\n",
      "    df['HDL'] = df['HDL'].apply(replace_missing_value)\n",
      "    df['Gluc'] = df['Gluc'].apply(replace_missing_value)\n",
      "    df['Age'] = df['Age'].apply(replace_missing_value)\n",
      "\n",
      "    df['Gender'] = df['Title'].apply(find_gender)\n",
      "    df_subset_index = df[['BMI', 'Systolic', 'TG', 'HDL', 'Gluc', 'Gender']].dropna().index\n",
      "    df_subset = df.ix[df_subset_index]\n",
      "    df_subset[['Systolic', 'Diastolic']] = df_subset['Systolic'].str.split('/').apply(pd.Series)\n",
      "    df_subset['Systolic'] = df_subset['Systolic'].apply(replace_missing_value)\n",
      "    df_subset['Diastolic'] = df_subset['Diastolic'].apply(replace_missing_value)\n",
      "    d = find_ms(df_subset)\n",
      "    ms_d = d[d['MS']>1]  # individuals who pass the metabolic syndrome criteria\n",
      "    #ms_d[['BMI', 'Gender', 'Systolic', 'Diastolic', 'Gluc', 'HDL', 'TG', 'MS']].to_csv(output_file)\n",
      "    #print ms_d[['BMI', 'Gender', 'Systolic', 'Diastolic', 'Gluc', 'HDL', 'TG', 'MS']]\n",
      "    #print ms_d.describe()[['BMI', 'Gender', 'Systolic', 'Diastolic', 'Gluc', 'HDL', 'TG', 'MS', 'Age']]\n",
      "    ms_d[['BMI','Systolic', 'Diastolic', 'Gluc', 'HDL', 'TG', 'Age']].describe().to_csv(output_file)"
     ],
     "language": "python",
     "metadata": {},
     "outputs": [],
     "prompt_number": 377
    },
    {
     "cell_type": "code",
     "collapsed": false,
     "input": [
      "df = pd.read_excel('data/Klongmai/data1.xlsx', 0, skiprows=[0,1])"
     ],
     "language": "python",
     "metadata": {},
     "outputs": [],
     "prompt_number": 376
    },
    {
     "cell_type": "code",
     "collapsed": false,
     "input": [
      "run(df, 'klongmai-2549.csv')"
     ],
     "language": "python",
     "metadata": {},
     "outputs": [
      {
       "output_type": "stream",
       "stream": "stdout",
       "text": [
        "63\n",
        "22 41\n"
       ]
      }
     ],
     "prompt_number": 378
    },
    {
     "cell_type": "code",
     "collapsed": false,
     "input": [
      "df = pd.read_excel('data/Klongmai/data1.xlsx', 1, skiprows=[0,1])\n",
      "x = df.columns.values[-1]\n",
      "df = df.drop([x], axis=1)\n",
      "run(df, 'klongmai-2550.csv')"
     ],
     "language": "python",
     "metadata": {},
     "outputs": [
      {
       "output_type": "stream",
       "stream": "stdout",
       "text": [
        "66\n",
        "22 44\n"
       ]
      }
     ],
     "prompt_number": 379
    },
    {
     "cell_type": "code",
     "collapsed": false,
     "input": [],
     "language": "python",
     "metadata": {},
     "outputs": []
    }
   ],
   "metadata": {}
  }
 ]
}