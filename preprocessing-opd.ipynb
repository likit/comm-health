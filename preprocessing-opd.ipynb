{
 "metadata": {
  "name": "",
  "signature": "sha256:009e8aea9c0743dc178f0bb8fa42f95affdd56c3bc2181a402cdef91cd721458"
 },
 "nbformat": 3,
 "nbformat_minor": 0,
 "worksheets": [
  {
   "cells": [
    {
     "cell_type": "code",
     "collapsed": false,
     "input": [
      "import pandas as pd\n",
      "import numpy as np\n",
      "import glob\n",
      "import re\n",
      "import matplotlib.pyplot as plt"
     ],
     "language": "python",
     "metadata": {},
     "outputs": [],
     "prompt_number": 154
    },
    {
     "cell_type": "code",
     "collapsed": false,
     "input": [
      "%matplotlib inline"
     ],
     "language": "python",
     "metadata": {},
     "outputs": [],
     "prompt_number": 2
    },
    {
     "cell_type": "markdown",
     "metadata": {},
     "source": [
      "## Some utility functions"
     ]
    },
    {
     "cell_type": "code",
     "collapsed": false,
     "input": [
      "def to_float(x):\n",
      "    '''returns float value of x or NaN'''\n",
      "    \n",
      "    if x is np.nan:\n",
      "        return x\n",
      "    try:\n",
      "        x = float(x)\n",
      "    except (ValueError, UnicodeEncodeError, TypeError), e:\n",
      "        print(x), e\n",
      "        return np.nan\n",
      "    else:\n",
      "        return x\n",
      "    \n",
      "def replace_value(x, pattern):\n",
      "    # there've got to be a better way\n",
      "    try:\n",
      "        missing = re.findall(pattern, str(x))\n",
      "    except UnicodeEncodeError:\n",
      "        return np.nan  # usually because of Thai words for \"not tested\"\n",
      "    else:\n",
      "        if missing:\n",
      "            return np.nan\n",
      "        else:\n",
      "            return x\n",
      "\n",
      "def replace_missing_value(dataframe, colnames):\n",
      "    for pattern in ['\\s+\\-', '\\-\\s+', '\\s+-\\s+', '-']:\n",
      "        dataframe[colnames] = dataframe[colnames].applymap(lambda x: replace_value(x, pattern))\n",
      "\n",
      "def convert_to_float(dataframe, colnames):\n",
      "    dataframe[colnames] = dataframe[colnames].applymap(to_float)"
     ],
     "language": "python",
     "metadata": {},
     "outputs": [],
     "prompt_number": 138
    },
    {
     "cell_type": "markdown",
     "metadata": {},
     "source": [
      "##Load data from excel\n",
      "\n",
      "Let's look at the data from January, 2551"
     ]
    },
    {
     "cell_type": "code",
     "collapsed": false,
     "input": [
      "years = []\n",
      "for yr in ['2551', '2552', '2553', '2554', '2555']:\n",
      "    months = []\n",
      "    for f in glob.glob('data/community/%s/*xls' % yr):\n",
      "        #print 'year: %s, month: %s' % (yr, f)\n",
      "        try:\n",
      "            df = pd.read_excel(f)\n",
      "        except:\n",
      "            print 'ERROR! year: %s, month: %s' % (yr, f)\n",
      "        else:\n",
      "            months.append(df)\n",
      "    years.append(months)\n",
      "\n",
      "    #years.append(pd.concat(months, ignore_index=True))"
     ],
     "language": "python",
     "metadata": {},
     "outputs": [
      {
       "output_type": "stream",
       "stream": "stdout",
       "text": [
        "ERROR! year: 2555, month: data/community/2555/10.xls\n",
        "ERROR! year: 2555, month: data/community/2555/2.xls"
       ]
      },
      {
       "output_type": "stream",
       "stream": "stdout",
       "text": [
        "\n",
        "ERROR! year: 2555, month: data/community/2555/3.xls"
       ]
      },
      {
       "output_type": "stream",
       "stream": "stdout",
       "text": [
        "\n"
       ]
      }
     ],
     "prompt_number": 141
    },
    {
     "cell_type": "code",
     "collapsed": false,
     "input": [
      "new_col_names = [unicode(s) for s in ['ServiceNo', 'Location', 'HN',\n",
      "                 'ServiceDate', 'Title', 'Age', 'Gender',\n",
      "                 'Weight', 'Height', 'HeartRate', 'OldSystolic',\n",
      "                 'HeartLungAbdomen', 'Smoke', 'LongTermSmoker', 'ExSmoker',\n",
      "                 'Drink', 'LongTermDrinker', 'Disease',\n",
      "                 'Stress', 'Medication', 'Exercise', '35YrMenstruation',\n",
      "                 'MenopausePeriod', 'CauseOfMenopause', 'MenopauseMedication']]\n",
      "new_col_names += months[0].columns[25:]\n",
      "\n",
      "for months in years:\n",
      "    for df in months:\n",
      "        df.rename(columns={'Systolic': 'OldSystolic'}, inplace=True)"
     ],
     "language": "python",
     "metadata": {},
     "outputs": [],
     "prompt_number": 142
    },
    {
     "cell_type": "code",
     "collapsed": false,
     "input": [
      "for y, months in enumerate(years):\n",
      "    for m, df in enumerate(months):\n",
      "        #print(y, m)\n",
      "        replace_missing_value(df, ['Glucose', 'Triglyceride', 'HDL-C',\n",
      "                                    'OldSystolic', 'Weight', 'Height'])\n",
      "        \n",
      "        #some values have an extra forward slash, which is needed to be removed.\n",
      "        df[['Systolic', 'Diastolic']] = df['OldSystolic'].str.replace('//', '/').str.split('/').apply(pd.Series)\n",
      "\n",
      "        convert_to_float(df, ['Glucose', 'Triglyceride', 'HDL-C',\n",
      "                              'Systolic', 'Diastolic', 'Weight', 'Height'])"
     ],
     "language": "python",
     "metadata": {},
     "outputs": [
      {
       "output_type": "stream",
       "stream": "stdout",
       "text": [
        "133.8//131.5 invalid literal for float(): 133.8//131.5\n",
        "EKG"
       ]
      },
      {
       "output_type": "stream",
       "stream": "stdout",
       "text": [
        " could not convert string to float: EKG\n",
        "EKG could not convert string to float: EKG\n",
        "EKG "
       ]
      },
      {
       "output_type": "stream",
       "stream": "stdout",
       "text": [
        " could not convert string to float: EKG \n",
        "EKG  could not convert string to float: EKG \n",
        "      "
       ]
      },
      {
       "output_type": "stream",
       "stream": "stdout",
       "text": [
        " could not convert string to float: \n",
        "       could not convert string to float: \n",
        "77 , 89"
       ]
      },
      {
       "output_type": "stream",
       "stream": "stdout",
       "text": [
        " invalid literal for float(): 77 , 89\n",
        "68 , 81 invalid literal for float(): 68 , 81\n",
        "115 , 125 invalid literal for float(): 115 , 125\n",
        "77 , 89 invalid literal for float(): 77 , 89\n",
        "68 , 81 invalid literal for float(): 68 , 81\n",
        "115 , 125 invalid literal for float(): 115 , 125\n",
        "EKG "
       ]
      },
      {
       "output_type": "stream",
       "stream": "stdout",
       "text": [
        " could not convert string to float: EKG \n",
        "EKG  could not convert string to float: EKG \n",
        "EKG  could not convert string to float: EKG \n",
        "EKG  could not convert string to float: EKG \n",
        "132 H"
       ]
      },
      {
       "output_type": "stream",
       "stream": "stdout",
       "text": [
        " invalid literal for float(): 132 H\n",
        "68 L invalid literal for float(): 68 L\n",
        "52 L (Repeated) invalid literal for float(): 52 L (Repeated)\n",
        "145 H invalid literal for float(): 145 H\n",
        "132 H invalid literal for float(): 132 H\n",
        "68 L invalid literal for float(): 68 L\n",
        "52 L (Repeated) invalid literal for float(): 52 L (Repeated)\n",
        "145 H invalid literal for float(): 145 H\n",
        "437 (repeated)"
       ]
      },
      {
       "output_type": "stream",
       "stream": "stdout",
       "text": [
        " invalid literal for float(): 437 (repeated)\n",
        "437 (repeated) invalid literal for float(): 437 (repeated)\n",
        "52 (serum)"
       ]
      },
      {
       "output_type": "stream",
       "stream": "stdout",
       "text": [
        " invalid literal for float(): 52 (serum)\n",
        "46 (serum) invalid literal for float(): 46 (serum)\n",
        "52 (serum) invalid literal for float(): 52 (serum)\n",
        "46 (serum) invalid literal for float(): 46 (serum)\n",
        "EKG"
       ]
      },
      {
       "output_type": "stream",
       "stream": "stdout",
       "text": [
        " could not convert string to float: EKG\n",
        "EKG could not convert string to float: EKG\n",
        "EKG"
       ]
      },
      {
       "output_type": "stream",
       "stream": "stdout",
       "text": [
        " could not convert string to float: EKG\n",
        "EKG could not convert string to float: EKG\n"
       ]
      },
      {
       "output_type": "stream",
       "stream": "stdout",
       "text": [
        " could not convert string to float: \n"
       ]
      }
     ],
     "prompt_number": 143
    },
    {
     "cell_type": "markdown",
     "metadata": {},
     "source": [
      "### Calculate BMI"
     ]
    },
    {
     "cell_type": "code",
     "collapsed": false,
     "input": [
      "for months in years:\n",
      "    for df in months:\n",
      "        df['BMI'] = df['Weight']/(df['Height']/100.0)**2.0"
     ],
     "language": "python",
     "metadata": {},
     "outputs": [],
     "prompt_number": 149
    },
    {
     "cell_type": "code",
     "collapsed": false,
     "input": [
      "new_years = []\n",
      "\n",
      "for months in years:\n",
      "    df = pd.concat(months, ignore_index=True)\n",
      "    new_years.append(df)"
     ],
     "language": "python",
     "metadata": {},
     "outputs": [],
     "prompt_number": 151
    },
    {
     "cell_type": "code",
     "collapsed": false,
     "input": [
      "bmis = []\n",
      "gluc = []\n",
      "trig = []\n",
      "hdlc = []\n",
      "systolic = []\n",
      "diastolic = []\n",
      "for yr in new_years:\n",
      "    bmis.append(getattr(yr, 'BMI').tolist())\n",
      "    gluc.append(getattr(yr, 'Glucose').tolist())\n",
      "    trig.append(getattr(yr, 'Triglyceride').tolist())\n",
      "    hdlc.append(getattr(yr, 'HDL-C').tolist())\n",
      "    systolic.append(getattr(yr, 'Systolic').tolist())\n",
      "    diastolic.append(getattr(yr, 'Diastolic').tolist())"
     ],
     "language": "python",
     "metadata": {},
     "outputs": [],
     "prompt_number": 193
    },
    {
     "cell_type": "code",
     "collapsed": false,
     "input": [
      "def plot(data, title, ylim, outfile):\n",
      "    fig = plt.figure(figsize=(8,6))\n",
      "    plt.boxplot(data)\n",
      "    plt.title(title, size=16)\n",
      "    plt.ylim(ylim)\n",
      "    plt.xticks(np.arange(len(new_years))+1, ['2551', '2552', '2553', '2554', '2555'])\n",
      "    plt.savefig(outfile)\n"
     ],
     "language": "python",
     "metadata": {},
     "outputs": [],
     "prompt_number": 182
    },
    {
     "cell_type": "code",
     "collapsed": false,
     "input": [
      "plot(bmis, 'BMI', (0,60), 'bmis.png')"
     ],
     "language": "python",
     "metadata": {},
     "outputs": [
      {
       "metadata": {},
       "output_type": "display_data",
       "png": "[encoded data removed]",
       "text": [
        "<matplotlib.figure.Figure at 0x1131c8250>"
       ]
      }
     ],
     "prompt_number": 185
    },
    {
     "cell_type": "code",
     "collapsed": false,
     "input": [
      "plot(trig, 'Triglyceride', (0,800), 'trig.png')"
     ],
     "language": "python",
     "metadata": {},
     "outputs": [
      {
       "metadata": {},
       "output_type": "display_data",
       "png": "[encoded data removed]",
       "text": [
        "<matplotlib.figure.Figure at 0x12919cd90>"
       ]
      }
     ],
     "prompt_number": 187
    },
    {
     "cell_type": "code",
     "collapsed": false,
     "input": [
      "plot(gluc, 'Glucose', (0,500), 'gluc.png')"
     ],
     "language": "python",
     "metadata": {},
     "outputs": [
      {
       "metadata": {},
       "output_type": "display_data",
       "png": "[encoded data removed]",
       "text": [
        "<matplotlib.figure.Figure at 0x129504ed0>"
       ]
      }
     ],
     "prompt_number": 188
    },
    {
     "cell_type": "code",
     "collapsed": false,
     "input": [
      "plot(hdlc, 'HDL-C', (0,200), 'hdlc.png')"
     ],
     "language": "python",
     "metadata": {},
     "outputs": [
      {
       "metadata": {},
       "output_type": "display_data",
       "png": "[encoded data removed]",
       "text": [
        "<matplotlib.figure.Figure at 0x1294f2a90>"
       ]
      }
     ],
     "prompt_number": 191
    },
    {
     "cell_type": "code",
     "collapsed": false,
     "input": [
      "plot(systolic, 'Systolic', (0,300), 'systolic.png')"
     ],
     "language": "python",
     "metadata": {},
     "outputs": [
      {
       "metadata": {},
       "output_type": "display_data",
       "png": "[encoded data removed]",
       "text": [
        "<matplotlib.figure.Figure at 0x115b2de10>"
       ]
      }
     ],
     "prompt_number": 195
    },
    {
     "cell_type": "code",
     "collapsed": false,
     "input": [
      "plot(diastolic, 'Diastolic', (0,200), 'diastolic.png')"
     ],
     "language": "python",
     "metadata": {},
     "outputs": [
      {
       "metadata": {},
       "output_type": "display_data",
       "png": "[encoded data removed]",
       "text": [
        "<matplotlib.figure.Figure at 0x10d5cb910>"
       ]
      }
     ],
     "prompt_number": 197
    },
    {
     "cell_type": "code",
     "collapsed": false,
     "input": [],
     "language": "python",
     "metadata": {},
     "outputs": []
    }
   ],
   "metadata": {}
  }
 ]
}